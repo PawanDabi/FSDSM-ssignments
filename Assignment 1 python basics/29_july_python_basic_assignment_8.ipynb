{
 "cells": [
  {
   "cell_type": "markdown",
   "id": "221bdb89",
   "metadata": {},
   "source": [
    "## 1. What is the role of try and exception block?"
   ]
  },
  {
   "cell_type": "code",
   "execution_count": null,
   "id": "bc6ce90c",
   "metadata": {},
   "outputs": [],
   "source": [
    "Try Block: \n",
    "    The \"try\" block contains the code that is potentially prone to exceptions or errors. When this code is executed, \n",
    "    the program monitors for any exceptions that may occur.\n",
    "\n",
    "Exception Block (Catch Block): \n",
    "    The \"exception\" block, often called the \"catch\" block, is executed only when an exception occurs within the corresponding \n",
    "    \"try\" block. It \"catches\" the thrown exception and provides a way to handle or respond to the error gracefully"
   ]
  },
  {
   "cell_type": "markdown",
   "id": "69b899ee",
   "metadata": {},
   "source": [
    "## 2. What is the syntax for a basic try-except block?"
   ]
  },
  {
   "cell_type": "code",
   "execution_count": null,
   "id": "acbf5a39",
   "metadata": {},
   "outputs": [],
   "source": [
    "try:\n",
    "    # code that arise exception\n",
    "except exception as e:\n",
    "    # code to handle exception"
   ]
  },
  {
   "cell_type": "markdown",
   "id": "7e556e89",
   "metadata": {},
   "source": [
    "## 3. What happens if an exception occurs inside a try block and there is no matching except block?"
   ]
  },
  {
   "cell_type": "code",
   "execution_count": null,
   "id": "bd458a28",
   "metadata": {},
   "outputs": [],
   "source": [
    "If an exception occurs inside a try block and there is no matching except block to handle that specific exception, \n",
    "the program will terminate abruptly, and an error message will be displayed (known as an \"unhandled exception\"). \n",
    "This behavior is often referred to as an \"uncaught exception\" or \"unhandled exception.\""
   ]
  },
  {
   "cell_type": "markdown",
   "id": "89b82cac",
   "metadata": {},
   "source": [
    "## 4. What is the difference between using a bare except block and specifying a specific exception type?"
   ]
  },
  {
   "cell_type": "code",
   "execution_count": null,
   "id": "0ce98a5c",
   "metadata": {},
   "outputs": [],
   "source": [
    "bare except:\n",
    "    When we use a bare except block, without specifying any exception type, it catches all exceptions that are subclasses \n",
    "    of the base Exception class. It is generally considered bad practice to use a bare except block because it catches\n",
    "    all exceptions, including those that you might not have anticipated. This can lead to difficulties in debugging and\n",
    "    handling unexpected errors.\n",
    "    \n",
    "specific exception :\n",
    "    When you specify a specific exception type, the except block will only catch exceptions that match that type \n",
    "    (or its subclasses). This approach is preferred because it allows you to handle different exceptions differently, \n",
    "    providing more control over the exception handling process."
   ]
  },
  {
   "cell_type": "markdown",
   "id": "8fc18b59",
   "metadata": {},
   "source": [
    "## 5. Can you have nested try-except blocks in Python? If yes, then give an example."
   ]
  },
  {
   "cell_type": "code",
   "execution_count": null,
   "id": "4df78aae",
   "metadata": {},
   "outputs": [],
   "source": [
    "Yes, you can have nested try-except blocks in Python. This means you can place one try-except block inside another. \n",
    "The inner try-except blocks will handle exceptions that occur within the scope of the outer try block."
   ]
  },
  {
   "cell_type": "code",
   "execution_count": 1,
   "id": "99242694",
   "metadata": {},
   "outputs": [
    {
     "name": "stdout",
     "output_type": "stream",
     "text": [
      "Enter a number: 2\n",
      "Enter another number: 3\n",
      "Result: 0.6666666666666666\n"
     ]
    }
   ],
   "source": [
    "try:\n",
    "    num1 = int(input(\"Enter a number: \"))\n",
    "    num2 = int(input(\"Enter another number: \"))\n",
    "\n",
    "    try:\n",
    "        result = num1 / num2\n",
    "        print(\"Result:\", result)\n",
    "\n",
    "    except ZeroDivisionError as e:\n",
    "        print(\"Error: Cannot divide by zero.\")\n",
    "\n",
    "except ValueError as e:\n",
    "    print(\"Invalid input. Please enter valid integers.\")\n"
   ]
  },
  {
   "cell_type": "markdown",
   "id": "8c326922",
   "metadata": {},
   "source": [
    "## 6. Can we use multiple exception blocks, if yes then give an example."
   ]
  },
  {
   "cell_type": "code",
   "execution_count": null,
   "id": "e307f5be",
   "metadata": {},
   "outputs": [],
   "source": [
    "Yes, we can use multiple except blocks to handle different types of exceptions separately."
   ]
  },
  {
   "cell_type": "code",
   "execution_count": 2,
   "id": "0468dd3f",
   "metadata": {},
   "outputs": [
    {
     "name": "stdout",
     "output_type": "stream",
     "text": [
      "Enter a number: 3\n",
      "Enter another number: 55\n",
      "Result: 0.05454545454545454\n"
     ]
    }
   ],
   "source": [
    "try:\n",
    "    num1 = int(input(\"Enter a number: \"))\n",
    "    num2 = int(input(\"Enter another number: \"))\n",
    "    result = num1 / num2\n",
    "    print(\"Result:\", result)\n",
    "\n",
    "except ValueError as e:\n",
    "    print(\"Invalid input. Please enter valid integers.\")\n",
    "    \n",
    "except ZeroDivisionError as e:\n",
    "    print(\"Error: Cannot divide by zero.\")\n"
   ]
  },
  {
   "cell_type": "markdown",
   "id": "bc6363d0",
   "metadata": {},
   "source": [
    "## 7. Write the reason due to which following errors are raised:"
   ]
  },
  {
   "cell_type": "code",
   "execution_count": null,
   "id": "67fa5cd0",
   "metadata": {},
   "outputs": [],
   "source": [
    "1. EOFError: This error occurs when the \"end of file\" is reached unexpectedly while trying to read input from a file or \n",
    "    the standard input stream (e.g., the user presses Ctrl+D or Ctrl+Z to signal the end of input). \n",
    "    It's commonly encountered when using the input() function or reading from files.\n",
    "\n",
    "2. FloatingPointError: This error occurs when an exceptional floating-point operation is attempted, such as dividing a \n",
    "    floating-point number by zero or encountering an overflow during a mathematical computation.\n",
    "\n",
    "3. IndexError: This error occurs when trying to access an index that is outside the valid range of indices for a sequence \n",
    "    (e.g., list, tuple, or string). It happens when you try to access an element at a non-existent index.\n",
    "\n",
    "4. MemoryError: This error occurs when a program runs out of available memory to allocate for new objects. It happens when the \n",
    "    system's memory is exhausted, and the program cannot allocate additional memory.\n",
    "\n",
    "5. OverflowError: This error occurs when a mathematical operation results in a value that exceeds the maximum representable \n",
    "    value for a numeric data type (e.g., an integer overflow).\n",
    "\n",
    "6. TabError: This error occurs when there are inconsistent tabulations or spaces used for indentation in Python code, \n",
    "    especially when mixing tabs and spaces within the same block of code.\n",
    "\n",
    "7. ValueError: This error occurs when an operation or function receives an argument of the correct data type but with an \n",
    "    inappropriate value. For example, trying to convert a string to an integer when the string does not represent a valid \n",
    "    integer."
   ]
  },
  {
   "cell_type": "markdown",
   "id": "12133a5e",
   "metadata": {},
   "source": [
    "## 8. Write code for the following given scenario and add try-exception block to it."
   ]
  },
  {
   "cell_type": "code",
   "execution_count": null,
   "id": "2925fe77",
   "metadata": {},
   "outputs": [],
   "source": [
    "1) program to divide two numbers"
   ]
  },
  {
   "cell_type": "code",
   "execution_count": 4,
   "id": "9550301d",
   "metadata": {},
   "outputs": [
    {
     "name": "stdout",
     "output_type": "stream",
     "text": [
      "Enter the numerator: 23\n",
      "Enter the denominator: 33\n",
      "Result: 0.696969696969697\n"
     ]
    }
   ],
   "source": [
    "try:\n",
    "    num1 = float(input(\"Enter the numerator: \"))\n",
    "    num2 = float(input(\"Enter the denominator: \"))\n",
    "    result = num1 / num2\n",
    "    print(\"Result:\", result)\n",
    "\n",
    "except ZeroDivisionError:\n",
    "    print(\"Error: Cannot divide by zero.\")\n",
    "except ValueError:\n",
    "    print(\"Invalid input. Please enter valid numbers.\")\n"
   ]
  },
  {
   "cell_type": "code",
   "execution_count": null,
   "id": "4b97ba99",
   "metadata": {},
   "outputs": [],
   "source": [
    "2) program to convert string into integer"
   ]
  },
  {
   "cell_type": "code",
   "execution_count": 6,
   "id": "3fcb3ac9",
   "metadata": {},
   "outputs": [
    {
     "name": "stdout",
     "output_type": "stream",
     "text": [
      "Enter a number: pawan\n",
      "Error: Invalid input. Please enter a valid integer.\n"
     ]
    }
   ],
   "source": [
    "try:\n",
    "    num_str = input(\"Enter a number: \")\n",
    "    num_int = int(num_str)\n",
    "    print(\"Integer value:\", num_int)\n",
    "\n",
    "except ValueError:\n",
    "    print(\"Error: Invalid input. Please enter a valid integer.\")\n"
   ]
  },
  {
   "cell_type": "code",
   "execution_count": null,
   "id": "f5190fa0",
   "metadata": {},
   "outputs": [],
   "source": [
    "3) program to access element in a list"
   ]
  },
  {
   "cell_type": "code",
   "execution_count": 7,
   "id": "c56d2214",
   "metadata": {},
   "outputs": [
    {
     "name": "stdout",
     "output_type": "stream",
     "text": [
      "Enter an index: 2\n",
      "Element at index 2 is: 3\n"
     ]
    }
   ],
   "source": [
    "try:\n",
    "    my_list = [1, 2, 3]\n",
    "    index = int(input(\"Enter an index: \"))\n",
    "    element = my_list[index]\n",
    "    print(\"Element at index\", index, \"is:\", element)\n",
    "\n",
    "except IndexError:\n",
    "    print(\"Error: Index out of range. Please enter a valid index.\")\n",
    "except ValueError:\n",
    "    print(\"Error: Invalid input. Please enter a valid integer index.\")\n"
   ]
  },
  {
   "cell_type": "code",
   "execution_count": null,
   "id": "46950590",
   "metadata": {},
   "outputs": [],
   "source": [
    "4) programm to handle specific exception"
   ]
  },
  {
   "cell_type": "code",
   "execution_count": 8,
   "id": "751107b0",
   "metadata": {},
   "outputs": [
    {
     "ename": "NameError",
     "evalue": "name 'divide_numbers' is not defined",
     "output_type": "error",
     "traceback": [
      "\u001b[1;31m---------------------------------------------------------------------------\u001b[0m",
      "\u001b[1;31mNameError\u001b[0m                                 Traceback (most recent call last)",
      "\u001b[1;32m~\\AppData\\Local\\Temp\\ipykernel_13880\\1932791084.py\u001b[0m in \u001b[0;36m<module>\u001b[1;34m\u001b[0m\n\u001b[0;32m      1\u001b[0m \u001b[1;32mtry\u001b[0m\u001b[1;33m:\u001b[0m\u001b[1;33m\u001b[0m\u001b[1;33m\u001b[0m\u001b[0m\n\u001b[0;32m      2\u001b[0m     \u001b[1;31m# Some code that might raise an exception\u001b[0m\u001b[1;33m\u001b[0m\u001b[1;33m\u001b[0m\u001b[0m\n\u001b[1;32m----> 3\u001b[1;33m     \u001b[0mresult\u001b[0m \u001b[1;33m=\u001b[0m \u001b[0mdivide_numbers\u001b[0m\u001b[1;33m(\u001b[0m\u001b[1;36m10\u001b[0m\u001b[1;33m,\u001b[0m \u001b[1;36m0\u001b[0m\u001b[1;33m)\u001b[0m  \u001b[1;31m# This might raise a ZeroDivisionError\u001b[0m\u001b[1;33m\u001b[0m\u001b[1;33m\u001b[0m\u001b[0m\n\u001b[0m\u001b[0;32m      4\u001b[0m     \u001b[0mprint\u001b[0m\u001b[1;33m(\u001b[0m\u001b[0mresult\u001b[0m\u001b[1;33m)\u001b[0m  \u001b[1;31m# This won't execute if an exception is raised\u001b[0m\u001b[1;33m\u001b[0m\u001b[1;33m\u001b[0m\u001b[0m\n\u001b[0;32m      5\u001b[0m \u001b[1;33m\u001b[0m\u001b[0m\n",
      "\u001b[1;31mNameError\u001b[0m: name 'divide_numbers' is not defined"
     ]
    }
   ],
   "source": [
    "try:\n",
    "    # Some code that might raise an exception\n",
    "    result = divide_numbers(10, 0)  # This might raise a ZeroDivisionError\n",
    "    print(result)  # This won't execute if an exception is raised\n",
    "\n",
    "except ZeroDivisionError as e:\n",
    "    print(\"Error: Cannot divide by zero\")\n",
    "    # Optionally, you can log the error or perform other actions to recover\n"
   ]
  },
  {
   "cell_type": "code",
   "execution_count": null,
   "id": "c778ec13",
   "metadata": {},
   "outputs": [],
   "source": [
    "5) programm to handle any exception"
   ]
  },
  {
   "cell_type": "code",
   "execution_count": 9,
   "id": "5a5f3785",
   "metadata": {},
   "outputs": [
    {
     "name": "stdout",
     "output_type": "stream",
     "text": [
      "An error occurred: name 'perform_some_operation' is not defined\n"
     ]
    }
   ],
   "source": [
    "try:\n",
    "    # Some code that might raise an exception\n",
    "    result = perform_some_operation()\n",
    "    print(result)  # This won't execute if an exception is raised\n",
    "\n",
    "except Exception as e:\n",
    "    print(\"An error occurred:\", str(e))\n",
    "    # Optionally, you can log the error or perform other actions to recover\n"
   ]
  }
 ],
 "metadata": {
  "kernelspec": {
   "display_name": "Python 3 (ipykernel)",
   "language": "python",
   "name": "python3"
  },
  "language_info": {
   "codemirror_mode": {
    "name": "ipython",
    "version": 3
   },
   "file_extension": ".py",
   "mimetype": "text/x-python",
   "name": "python",
   "nbconvert_exporter": "python",
   "pygments_lexer": "ipython3",
   "version": "3.9.13"
  }
 },
 "nbformat": 4,
 "nbformat_minor": 5
}
