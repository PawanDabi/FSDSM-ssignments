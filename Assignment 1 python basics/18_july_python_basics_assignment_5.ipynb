{
 "cells": [
  {
   "cell_type": "markdown",
   "id": "2dd09ac6",
   "metadata": {},
   "source": [
    "## 1. What does an empty dictionary&#39;s code look like?"
   ]
  },
  {
   "cell_type": "code",
   "execution_count": 1,
   "id": "2d35aea7",
   "metadata": {},
   "outputs": [],
   "source": [
    "empty_dictionary = {}"
   ]
  },
  {
   "cell_type": "markdown",
   "id": "ee39675f",
   "metadata": {},
   "source": [
    "## 2. What is the value of a dictionary value with the key &#39;foo&#39; and the value 42?"
   ]
  },
  {
   "cell_type": "code",
   "execution_count": null,
   "id": "41493e75",
   "metadata": {},
   "outputs": [],
   "source": [
    "the value will be 42"
   ]
  },
  {
   "cell_type": "markdown",
   "id": "87c53407",
   "metadata": {},
   "source": [
    "## 3. What is the most significant distinction between a dictionary and a list?"
   ]
  },
  {
   "cell_type": "code",
   "execution_count": null,
   "id": "d2f747ca",
   "metadata": {},
   "outputs": [],
   "source": [
    "A list is an orderd collection of element where each element indexing starting from 0. on the other hand the dictionary \n",
    "has a all different or unique key and associated with value.\n",
    "\n",
    "In list we access element by indexing like list_1[5], where as in dictionary we access the element by key pair like \n",
    "dict_1['key_name']\n",
    "\n",
    "dictionary uses key-value pair where as list do not use key-value pair.\n",
    "\n",
    "both the list and the dictionary are mutable in nature.\n"
   ]
  },
  {
   "cell_type": "markdown",
   "id": "d4a2c0c1",
   "metadata": {},
   "source": [
    "## 4. What happens if you try to access spam[&#39;foo&#39;] if spam is {&#39;bar&#39;: 100}?"
   ]
  },
  {
   "cell_type": "code",
   "execution_count": null,
   "id": "0879b7c3",
   "metadata": {},
   "outputs": [],
   "source": [
    "the error will occur if we are using spam['foo']. the error will be 'KeyError'"
   ]
  },
  {
   "cell_type": "code",
   "execution_count": 2,
   "id": "add9f89c",
   "metadata": {},
   "outputs": [
    {
     "ename": "KeyError",
     "evalue": "'foo'",
     "output_type": "error",
     "traceback": [
      "\u001b[1;31m---------------------------------------------------------------------------\u001b[0m",
      "\u001b[1;31mKeyError\u001b[0m                                  Traceback (most recent call last)",
      "\u001b[1;32m~\\AppData\\Local\\Temp\\ipykernel_4336\\2791981911.py\u001b[0m in \u001b[0;36m<module>\u001b[1;34m\u001b[0m\n\u001b[0;32m      1\u001b[0m \u001b[0mspam\u001b[0m \u001b[1;33m=\u001b[0m \u001b[1;33m{\u001b[0m\u001b[1;34m'bar'\u001b[0m\u001b[1;33m:\u001b[0m\u001b[1;36m100\u001b[0m\u001b[1;33m}\u001b[0m\u001b[1;33m\u001b[0m\u001b[1;33m\u001b[0m\u001b[0m\n\u001b[1;32m----> 2\u001b[1;33m \u001b[0mprint\u001b[0m\u001b[1;33m(\u001b[0m\u001b[0mspam\u001b[0m\u001b[1;33m[\u001b[0m\u001b[1;34m'foo'\u001b[0m\u001b[1;33m]\u001b[0m\u001b[1;33m)\u001b[0m\u001b[1;33m\u001b[0m\u001b[1;33m\u001b[0m\u001b[0m\n\u001b[0m",
      "\u001b[1;31mKeyError\u001b[0m: 'foo'"
     ]
    }
   ],
   "source": [
    "spam = {'bar':100}\n",
    "print(spam['foo'])"
   ]
  },
  {
   "cell_type": "markdown",
   "id": "11dbaa3e",
   "metadata": {},
   "source": [
    "## 5. If a dictionary is stored in spam, what is the difference between the expressions &#39;cat&#39; in spam and &#39;cat&#39; in spam.keys()?"
   ]
  },
  {
   "cell_type": "code",
   "execution_count": null,
   "id": "587aa239",
   "metadata": {},
   "outputs": [],
   "source": [
    "The expressions 'cat' in spam and 'cat' in spam.keys() are functionally equivalent and both check for the presence \n",
    "of the key 'cat' in the dictionary spam. "
   ]
  },
  {
   "cell_type": "markdown",
   "id": "896e3835",
   "metadata": {},
   "source": [
    "## 6. The expressions 'cat' in spam and 'cat' in spam.keys() are functionally equivalent and both check for the presence of the key 'cat' in the dictionary spam. "
   ]
  },
  {
   "cell_type": "code",
   "execution_count": null,
   "id": "ffa837cb",
   "metadata": {},
   "outputs": [],
   "source": [
    "yes, both the expression check for the presence of the key 'cat' in the dictionary spam"
   ]
  },
  {
   "cell_type": "markdown",
   "id": "44ef8fc6",
   "metadata": {},
   "source": [
    "## 7. What is a shortcut for the following code?\n",
    "## if &#39;color&#39; not in spam:\n",
    "## spam[&#39;color&#39;] = &#39;black&#39;"
   ]
  },
  {
   "cell_type": "code",
   "execution_count": null,
   "id": "4dc021bd",
   "metadata": {},
   "outputs": [],
   "source": [
    "the shortcut of this code will be:- 'setdefault()' \n",
    "the 'setdefault()' will allow us to  specify a default value of the key if it does not exist in the dictionary"
   ]
  },
  {
   "cell_type": "markdown",
   "id": "b4795d3e",
   "metadata": {},
   "source": [
    "## 8. How do you &quot;pretty print&quot; dictionary values using which module and function?"
   ]
  },
  {
   "cell_type": "code",
   "execution_count": 3,
   "id": "af76017f",
   "metadata": {},
   "outputs": [
    {
     "name": "stdout",
     "output_type": "stream",
     "text": [
      "{'age': '23', 'last_name': 'dabi', 'name': 'pawan'}\n"
     ]
    }
   ],
   "source": [
    "import pprint\n",
    "\n",
    "my_dict = {'name': 'pawan', 'last_name': 'dabi', 'age': '23'}\n",
    "\n",
    "pprint.pprint(my_dict)"
   ]
  }
 ],
 "metadata": {
  "kernelspec": {
   "display_name": "Python 3 (ipykernel)",
   "language": "python",
   "name": "python3"
  },
  "language_info": {
   "codemirror_mode": {
    "name": "ipython",
    "version": 3
   },
   "file_extension": ".py",
   "mimetype": "text/x-python",
   "name": "python",
   "nbconvert_exporter": "python",
   "pygments_lexer": "ipython3",
   "version": "3.9.13"
  }
 },
 "nbformat": 4,
 "nbformat_minor": 5
}
