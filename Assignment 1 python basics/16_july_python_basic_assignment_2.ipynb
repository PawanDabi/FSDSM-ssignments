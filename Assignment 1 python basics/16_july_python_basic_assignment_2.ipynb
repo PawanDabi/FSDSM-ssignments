{
 "cells": [
  {
   "cell_type": "markdown",
   "id": "b77dfb75",
   "metadata": {},
   "source": [
    "## 1.What are the two values of the Boolean data type? How do you write them?"
   ]
  },
  {
   "cell_type": "code",
   "execution_count": null,
   "id": "6c2e1d14",
   "metadata": {},
   "outputs": [],
   "source": [
    "This boolean data type represents the logical value that have True or False. it is used to perform logical operations and\n",
    "control flow of program\n",
    "\n",
    "we write True boolean data type as 1\n",
    "and False boolean data type as 0\n",
    "\n",
    "example: ranning= True\n",
    "    \t weather = False"
   ]
  },
  {
   "cell_type": "markdown",
   "id": "6fd27908",
   "metadata": {},
   "source": [
    "## 2. What are the three different types of Boolean operators?"
   ]
  },
  {
   "cell_type": "code",
   "execution_count": null,
   "id": "07d5bee2",
   "metadata": {},
   "outputs": [],
   "source": [
    "the three different types are:\n",
    "    1) logical AND(&&)\n",
    "    2) logical OR(||)\n",
    "    3) logical NOT(!)\n",
    "    \n",
    "1) Logical AND(&&):- The logical AND operator returns true if both of its operands are true, and false otherwise."
   ]
  },
  {
   "cell_type": "code",
   "execution_count": 4,
   "id": "16e402ff",
   "metadata": {},
   "outputs": [
    {
     "name": "stdout",
     "output_type": "stream",
     "text": [
      "False\n"
     ]
    }
   ],
   "source": [
    "a = True\n",
    "b = False\n",
    "c = a and b\n",
    "print(c)"
   ]
  },
  {
   "cell_type": "code",
   "execution_count": null,
   "id": "2ab2cc42",
   "metadata": {},
   "outputs": [],
   "source": [
    "2) Logical OR(||):- The logical OR operator returns true if at least one of its operands is true, and false otherwise.   "
   ]
  },
  {
   "cell_type": "code",
   "execution_count": 5,
   "id": "e38bccd2",
   "metadata": {},
   "outputs": [
    {
     "name": "stdout",
     "output_type": "stream",
     "text": [
      "True\n"
     ]
    }
   ],
   "source": [
    "a = True\n",
    "b = False\n",
    "c = a or b\n",
    "print(c)"
   ]
  },
  {
   "cell_type": "code",
   "execution_count": null,
   "id": "4b49cae8",
   "metadata": {},
   "outputs": [],
   "source": [
    "3) Logical NOT(!):- The logical NOT operator is a unary operator that negates the boolean value of its operand. \n",
    "    It returns true if the operand is false, and false if the operand is true."
   ]
  },
  {
   "cell_type": "code",
   "execution_count": 7,
   "id": "ce7f3e26",
   "metadata": {},
   "outputs": [
    {
     "name": "stdout",
     "output_type": "stream",
     "text": [
      "False\n"
     ]
    }
   ],
   "source": [
    "a = True\n",
    "b = not a\n",
    "print(b) "
   ]
  },
  {
   "cell_type": "markdown",
   "id": "64d1199c",
   "metadata": {},
   "source": [
    "## 3. Make a list of each Boolean operator&#39;s truth tables (i.e. every possible combination of Boolean values for the operator and what it evaluate )."
   ]
  },
  {
   "cell_type": "code",
   "execution_count": null,
   "id": "82445d30",
   "metadata": {},
   "outputs": [],
   "source": [
    "1) Logical AND (&&) Truth Table:\n",
    "    \n",
    "Operand 1   Operand 2    Result\n",
    "False       False        False\n",
    "False       True         False\n",
    "True        False        False\n",
    "True        True         True\n"
   ]
  },
  {
   "cell_type": "code",
   "execution_count": null,
   "id": "95fdf179",
   "metadata": {},
   "outputs": [],
   "source": [
    "2) Logical OR (||) Truth Table:\n",
    "    \n",
    "Operand 1    Operand 2   Result\n",
    "False        False       False\n",
    "False        True        True\n",
    "True         False       True\n",
    "True         True        True"
   ]
  },
  {
   "cell_type": "code",
   "execution_count": null,
   "id": "57b2ccde",
   "metadata": {},
   "outputs": [],
   "source": [
    "3) Logical NOT (!) Truth Table:\n",
    "    \n",
    "Operand    Result\n",
    "False      True\n",
    "True       False"
   ]
  },
  {
   "cell_type": "markdown",
   "id": "d00feb8e",
   "metadata": {},
   "source": [
    "## 4. What are the values of the following expressions?\n",
    "## (5 > 4) and (3 == 5)\n",
    "## not (5 > 4)\n",
    "## (5 > 4) or (3 == 5)\n",
    "## not ((5 > 4) or (3 == 5))\n",
    "## (True and True) and (True == False)\n",
    "## (not False) or (not True)"
   ]
  },
  {
   "cell_type": "code",
   "execution_count": null,
   "id": "c4f2a263",
   "metadata": {},
   "outputs": [],
   "source": [
    "(5 > 4) and (3 == 5) is False\n",
    "not (5 > 4) is False\n",
    "(5 > 4) or (3 == 5) is  True\n",
    "not ((5 > 4) or (3 == 5)) is False\n",
    "(True and True) and (True == False) is False\n",
    "(not False) or (not True) is True"
   ]
  },
  {
   "cell_type": "markdown",
   "id": "06f0de2d",
   "metadata": {},
   "source": [
    "## 5. What are the six comparison operators?"
   ]
  },
  {
   "cell_type": "code",
   "execution_count": null,
   "id": "98fa4772",
   "metadata": {},
   "outputs": [],
   "source": [
    "the six comparision operators are\n",
    "\n",
    "1) Equal to (==): This operator checks if the values of two operands are equal and returns True if they are, \n",
    "    and False otherwise. \n",
    "    example:- \n",
    "        5 == 5 returns True.\n",
    "\n",
    "2) Not equal to (!=): This operator checks if the values of two operands are not equal and returns True if they are not,\n",
    "    and False if they are equal. \n",
    "    example:- \n",
    "        5 != 3 returns True.        \n",
    "        \n",
    "3) Greater than (>): This operator checks if the value of the left operand is greater than the value of the right operand. \n",
    "    It returns True if it is, and False otherwise. \n",
    "    example:-  \n",
    "        5 > 3 returns True.   \n",
    "        \n",
    "4) Less than (<): This operator checks if the value of the left operand is less than the value of the right operand. \n",
    "    It returns True if it is, and False otherwise.  \n",
    "    example:-  \n",
    "        3 < 5 returns True.\n",
    "\n",
    "5) Greater than or equal to (>=): This operator checks if the value of the left operand is greater than or equal to the value of the right operand. \n",
    "    It returns True if it is, and False otherwise. \n",
    "    example:-  \n",
    "        5 >= 5 returns True.\n",
    "\n",
    "6) Less than or equal to (<=): This operator checks if the value of the left operand is less than or equal \n",
    "    to the value of the right operand. It returns True if it is, and False otherwise.\n",
    "    example:-  3 <= 5 returns True.       "
   ]
  },
  {
   "cell_type": "markdown",
   "id": "28350aa3",
   "metadata": {},
   "source": [
    "## 6. How do you tell the difference between the equal to and assignment operators?Describe a condition and when you would use one."
   ]
  },
  {
   "cell_type": "code",
   "execution_count": null,
   "id": "737005e2",
   "metadata": {},
   "outputs": [],
   "source": [
    "Equal to operator (==): The equal to operator is used to compare whether two values are equal. \n",
    "    It returns a Boolean value (True or False) based on the comparison result.\n",
    "    example:\n",
    "        "
   ]
  },
  {
   "cell_type": "code",
   "execution_count": 8,
   "id": "45e2412a",
   "metadata": {},
   "outputs": [
    {
     "name": "stdout",
     "output_type": "stream",
     "text": [
      "x is equal to 5\n"
     ]
    }
   ],
   "source": [
    "x = 5\n",
    "if x == 5:\n",
    "    print(\"x is equal to 5\")\n",
    "    "
   ]
  },
  {
   "cell_type": "code",
   "execution_count": null,
   "id": "f4ddf085",
   "metadata": {},
   "outputs": [],
   "source": [
    "Assignment operator (=): The assignment operator is used to assign a value to a variable. \n",
    "    It takes the value on the right-hand side and assigns it to the variable on the left-hand side. \n",
    "    It does not compare values for equality.\n",
    "    example:"
   ]
  },
  {
   "cell_type": "code",
   "execution_count": 9,
   "id": "80f08174",
   "metadata": {},
   "outputs": [
    {
     "name": "stdout",
     "output_type": "stream",
     "text": [
      "7\n"
     ]
    }
   ],
   "source": [
    "x = 5\n",
    "y = x + 2\n",
    "print(y)"
   ]
  },
  {
   "cell_type": "markdown",
   "id": "e5c96b8c",
   "metadata": {},
   "source": [
    "## 7. Identify the three blocks in this code:\n"
   ]
  },
  {
   "cell_type": "code",
   "execution_count": 11,
   "id": "17c06377",
   "metadata": {},
   "outputs": [],
   "source": [
    "Block 1)\n",
    "\n",
    "spam = 0\n",
    "if spam == 10:\n",
    "    print('eggs')\n",
    "\n",
    "    \n",
    "the given block is not satisfied because the condition is not valid"
   ]
  },
  {
   "cell_type": "code",
   "execution_count": null,
   "id": "69b8b5c5",
   "metadata": {},
   "outputs": [],
   "source": [
    "Block 2)\n",
    "\n",
    "if spam > 5:\n",
    "    print(\"bacon\")\n",
    "else:\n",
    "    print(\"ham\")\n",
    "    \n",
    "    \n",
    "    \n",
    "initialy the spam is equal to 0, hence the if statement is false. it will return else statement \"ham\"    "
   ]
  },
  {
   "cell_type": "code",
   "execution_count": null,
   "id": "009125d5",
   "metadata": {},
   "outputs": [],
   "source": [
    "Block 3) \n",
    "\n",
    "print(\"spam\")\n",
    "print(\"spam\")\n",
    "\n",
    "\n",
    "this block consist two print statement, hence it will print \n",
    "spam\n",
    "spam"
   ]
  },
  {
   "cell_type": "markdown",
   "id": "b3d0376b",
   "metadata": {},
   "source": [
    "## 8. Write code that prints Hello if 1 is stored in spam, prints Howdy if 2 is stored in spam, and prints  Greetings! if anything else is stored in spam."
   ]
  },
  {
   "cell_type": "code",
   "execution_count": 15,
   "id": "f24d1623",
   "metadata": {},
   "outputs": [
    {
     "name": "stdout",
     "output_type": "stream",
     "text": [
      "Enter number: 4\n",
      "greetings\n"
     ]
    }
   ],
   "source": [
    "spam = int(input(\"Enter number: \"))\n",
    "if spam == 1:\n",
    "    print(\"hello\")\n",
    "elif spam == 2:\n",
    "    print(\"howdy\")\n",
    "else:\n",
    "    print(\"greetings\")"
   ]
  },
  {
   "cell_type": "markdown",
   "id": "b2fbe2f2",
   "metadata": {},
   "source": [
    "## 9.If your programme is stuck in an endless loop, what keys you’ll press?"
   ]
  },
  {
   "cell_type": "code",
   "execution_count": null,
   "id": "0c982550",
   "metadata": {},
   "outputs": [],
   "source": [
    "if a programme is stuck in an endless loop, we will use \"CRTL+C\". this sends an interrupt signal to the program and break \n",
    "out to the endless loop"
   ]
  },
  {
   "cell_type": "markdown",
   "id": "55576a22",
   "metadata": {},
   "source": [
    "## 10. How can you tell the difference between break and continue?"
   ]
  },
  {
   "cell_type": "code",
   "execution_count": null,
   "id": "bba9f145",
   "metadata": {},
   "outputs": [],
   "source": [
    "The break statement:\n",
    "When encountered within a loop, the break statement immediately terminates the loop and transfers the control to \n",
    "the next statement after the loop.\n",
    "\n",
    "The continue statement:\n",
    "When encountered within a loop, the continue statement skips the rest of the code within the loop for the current \n",
    "iteration and jumps to the next iteration of the loop."
   ]
  },
  {
   "cell_type": "markdown",
   "id": "7008027d",
   "metadata": {},
   "source": [
    "## 11. In a for loop, what is the difference between range(10), range(0, 10), and range(0, 10, 1)?"
   ]
  },
  {
   "cell_type": "code",
   "execution_count": 17,
   "id": "b3b996ea",
   "metadata": {},
   "outputs": [
    {
     "data": {
      "text/plain": [
       "[0, 1, 2, 3, 4, 5, 6, 7, 8, 9]"
      ]
     },
     "execution_count": 17,
     "metadata": {},
     "output_type": "execute_result"
    }
   ],
   "source": [
    "list(range(10))\n",
    "\n",
    "# this will start form zero and returns the value upto, but not including 10"
   ]
  },
  {
   "cell_type": "code",
   "execution_count": 18,
   "id": "3e6710f8",
   "metadata": {},
   "outputs": [
    {
     "data": {
      "text/plain": [
       "[0, 1, 2, 3, 4, 5, 6, 7, 8, 9]"
      ]
     },
     "execution_count": 18,
     "metadata": {},
     "output_type": "execute_result"
    }
   ],
   "source": [
    "list(range(0, 10))\n",
    "\n",
    "# this will start form 0 and will stop at 10, but excluding 10 "
   ]
  },
  {
   "cell_type": "code",
   "execution_count": 20,
   "id": "a821c514",
   "metadata": {},
   "outputs": [
    {
     "data": {
      "text/plain": [
       "[0, 1, 2, 3, 4, 5, 6, 7, 8, 9]"
      ]
     },
     "execution_count": 20,
     "metadata": {},
     "output_type": "execute_result"
    }
   ],
   "source": [
    "list(range(0,10,1))\n",
    "\n",
    "# this will aslo start from 0 and ends at the 10, but excluding 10. and it will take a jump value of 1"
   ]
  },
  {
   "cell_type": "markdown",
   "id": "218634e1",
   "metadata": {},
   "source": [
    "## 12. Write a short program that prints the numbers 1 to 10 using a for loop. Then write an equivalent program that prints the numbers 1 to 10 using a while loop."
   ]
  },
  {
   "cell_type": "code",
   "execution_count": 22,
   "id": "6aa5fb05",
   "metadata": {},
   "outputs": [
    {
     "name": "stdout",
     "output_type": "stream",
     "text": [
      "1\n",
      "2\n",
      "3\n",
      "4\n",
      "5\n",
      "6\n",
      "7\n",
      "8\n",
      "9\n",
      "10\n"
     ]
    }
   ],
   "source": [
    "for i in range(1, 11):\n",
    "    print(i)"
   ]
  },
  {
   "cell_type": "code",
   "execution_count": 24,
   "id": "668f173a",
   "metadata": {},
   "outputs": [
    {
     "name": "stdout",
     "output_type": "stream",
     "text": [
      "1\n",
      "2\n",
      "3\n",
      "4\n",
      "5\n",
      "6\n",
      "7\n",
      "8\n",
      "9\n",
      "10\n"
     ]
    }
   ],
   "source": [
    "i=1\n",
    "while i <= 10:\n",
    "    print(i)\n",
    "    i=i+1"
   ]
  },
  {
   "cell_type": "markdown",
   "id": "802c2cd9",
   "metadata": {},
   "source": [
    "## 13. If you had a function named bacon() inside a module named spam, how would you call it after importing spam?"
   ]
  },
  {
   "cell_type": "code",
   "execution_count": null,
   "id": "011c8525",
   "metadata": {},
   "outputs": [],
   "source": [
    "after importing the module \"spam\", we can call the function bacon()\n",
    "\n",
    "import spam\n",
    "spam.bacon()"
   ]
  },
  {
   "cell_type": "code",
   "execution_count": null,
   "id": "c276859f",
   "metadata": {},
   "outputs": [],
   "source": []
  }
 ],
 "metadata": {
  "kernelspec": {
   "display_name": "Python 3 (ipykernel)",
   "language": "python",
   "name": "python3"
  },
  "language_info": {
   "codemirror_mode": {
    "name": "ipython",
    "version": 3
   },
   "file_extension": ".py",
   "mimetype": "text/x-python",
   "name": "python",
   "nbconvert_exporter": "python",
   "pygments_lexer": "ipython3",
   "version": "3.9.13"
  }
 },
 "nbformat": 4,
 "nbformat_minor": 5
}
