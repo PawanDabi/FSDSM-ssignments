{
 "cells": [
  {
   "cell_type": "markdown",
   "id": "f15d245d",
   "metadata": {},
   "source": [
    "## Q.1. Create two int type variables, apply addition, subtraction, division and multiplications and store the results in variables. Then print the data in the following format by calling the variables:"
   ]
  },
  {
   "cell_type": "code",
   "execution_count": 3,
   "id": "60a74b2f",
   "metadata": {},
   "outputs": [
    {
     "name": "stdout",
     "output_type": "stream",
     "text": [
      "The First Variable is: 23 and the Second Variable is: 34\n",
      "Addition : 23 + 34 = 57\n",
      "substraction : 23 - 34 = -11\n",
      "multiplication : 23 * 34 = 782\n",
      "division : 23 / 34 = 0.6764705882352942\n"
     ]
    }
   ],
   "source": [
    "first_variable = 23\n",
    "second_variable = 34\n",
    "addition = first_variable + second_variable\n",
    "substraction = first_variable - second_variable\n",
    "multiplication = first_variable * second_variable\n",
    "division = first_variable / second_variable\n",
    "\n",
    "print(f\"The First Variable is: {first_variable} and the Second Variable is: {second_variable}\")\n",
    "print(f\"Addition : {first_variable} + {second_variable} = {addition}\")\n",
    "print(f\"substraction : {first_variable} - {second_variable} = {substraction}\")\n",
    "print(f\"multiplication : {first_variable} * {second_variable} = {multiplication}\")\n",
    "print(f\"division : {first_variable} / {second_variable} = {division}\")"
   ]
  },
  {
   "cell_type": "markdown",
   "id": "13cb3586",
   "metadata": {},
   "source": [
    "## Q.2. What is the difference between the following operators:\n",
    "## (i) ‘/’ & ‘//’\n",
    "## (ii) ‘**’ & ‘^’"
   ]
  },
  {
   "cell_type": "code",
   "execution_count": null,
   "id": "9d76e151",
   "metadata": {},
   "outputs": [],
   "source": [
    "(i) '/': This is the regular division operator in Python, which calculates the quotient of two numbers and returns a float value.\n",
    "         example: 7 / 3 will result in 2.3335\n",
    "\n",
    " '//': This is the floor division operator in Python. It performs division and rounds down the result to the nearest whole \n",
    "    number (integer). \n",
    "    example: 7 // 3 will result in 2.\n",
    "        \n",
    "The difference between '/' and '//' is in the type of result they produce. '/' always returns a floating-point result \n",
    "(even if the numbers are evenly divisible), while '//' returns an integer result by truncating the decimal part of the quotient."
   ]
  },
  {
   "cell_type": "code",
   "execution_count": null,
   "id": "d021dfa1",
   "metadata": {},
   "outputs": [],
   "source": [
    "(ii) '**': This is the exponentiation operator in Python, used for raising a number to a certain power.\n",
    "           example: 2 ** 3 results in 8.\n",
    "\n",
    "'^': The '^' operator is not the exponentiation operator in Python. Instead, it is the bitwise XOR operator. \n",
    "    It performs a bitwise XOR operation on the binary representations of two integers. \n",
    "    example: 5 ^ 3 will result in 6 because the binary representation of 5 is 101 and 3 is 011, and the bitwise XOR of these\n",
    "        is 110, which is 6 in decimal."
   ]
  },
  {
   "cell_type": "markdown",
   "id": "b26aa832",
   "metadata": {},
   "source": [
    "## Q.3. List the logical operators."
   ]
  },
  {
   "cell_type": "code",
   "execution_count": null,
   "id": "1fac72cb",
   "metadata": {},
   "outputs": [],
   "source": [
    "and: \n",
    "    The logical \"and\" operator returns True if both operands are True, otherwise, it returns False.\n",
    "        \n",
    "True and True = True\n",
    "True and False = False\n",
    "False and True = False\n",
    "False and False = False"
   ]
  },
  {
   "cell_type": "code",
   "execution_count": null,
   "id": "ad7151e9",
   "metadata": {},
   "outputs": [],
   "source": [
    "or: \n",
    "    The logical \"or\" operator returns True if at least one of the operands is True, otherwise, it returns False. \n",
    "\n",
    "\n",
    "True or True = True\n",
    "True or False = True\n",
    "False or True = True\n",
    "False or False = False"
   ]
  },
  {
   "cell_type": "code",
   "execution_count": null,
   "id": "fe269f2f",
   "metadata": {},
   "outputs": [],
   "source": [
    "not: \n",
    "    The logical \"not\" operator is a unary operator that negates the boolean value of its operand. \n",
    "    If the operand is True, it returns False, and if the operand is False, it returns True. \n",
    "\n",
    "not True = False\n",
    "not False = True"
   ]
  },
  {
   "cell_type": "markdown",
   "id": "bc1b3442",
   "metadata": {},
   "source": [
    "## Q.4. Explain right shift operator and left shift operator with examples."
   ]
  },
  {
   "cell_type": "code",
   "execution_count": null,
   "id": "2ad91750",
   "metadata": {},
   "outputs": [],
   "source": [
    "Right Shift Operator (>>):\n",
    "The right shift operator (>>) takes a number and shifts its binary representation to the right by a specified number of \n",
    "positions. It's like moving all the digits to the right by the given amount. This is equivalent to dividing the number by \n",
    "2 raised to the power of the shift amount. Any bits shifted off to the right are discarded."
   ]
  },
  {
   "cell_type": "code",
   "execution_count": 4,
   "id": "8c38cd1c",
   "metadata": {},
   "outputs": [
    {
     "name": "stdout",
     "output_type": "stream",
     "text": [
      "Number: 16  (Binary: 10000)\n",
      "Shifted 2 positions to the right: 4  (Binary: 100)\n"
     ]
    }
   ],
   "source": [
    "number = 16  \n",
    "shift_amount = 2\n",
    "result = number >> shift_amount\n",
    "\n",
    "print(f\"Number: {number}  (Binary: {bin(number)[2:]})\")\n",
    "print(f\"Shifted {shift_amount} positions to the right: {result}  (Binary: {bin(result)[2:]})\")\n"
   ]
  },
  {
   "cell_type": "code",
   "execution_count": null,
   "id": "acf2b250",
   "metadata": {},
   "outputs": [],
   "source": [
    "Left Shift Operator (<<):\n",
    "The left shift operator (<<) also takes a number and shifts its binary representation to the left by a specified number of \n",
    "positions. It's like moving all the digits to the left by the given amount. This is equivalent to multiplying the number by \n",
    "2 raised to the power of the shift amount."
   ]
  },
  {
   "cell_type": "code",
   "execution_count": 5,
   "id": "526c623a",
   "metadata": {},
   "outputs": [
    {
     "name": "stdout",
     "output_type": "stream",
     "text": [
      "Number: 5  (Binary: 101)\n",
      "Shifted 2 positions to the left: 20  (Binary: 10100)\n"
     ]
    }
   ],
   "source": [
    "number = 5    \n",
    "shift_amount = 2\n",
    "result = number << shift_amount\n",
    "\n",
    "print(f\"Number: {number}  (Binary: {bin(number)[2:]})\")\n",
    "print(f\"Shifted {shift_amount} positions to the left: {result}  (Binary: {bin(result)[2:]})\")"
   ]
  },
  {
   "cell_type": "markdown",
   "id": "3ebd1a7e",
   "metadata": {},
   "source": [
    "## Q.5. Create a list containing int type data of length 15. Then write a code to check if 10 is present in the list or not."
   ]
  },
  {
   "cell_type": "code",
   "execution_count": 6,
   "id": "4f613e8e",
   "metadata": {},
   "outputs": [
    {
     "name": "stdout",
     "output_type": "stream",
     "text": [
      "The number 10 is present in the list.\n"
     ]
    }
   ],
   "source": [
    "my_list = [1, 5, 8, 10, 15, 20, 25, 30, 35, 40, 45, 50, 55, 60, 65]\n",
    "if 10 in my_list:\n",
    "    print(\"The number 10 is present in the list.\")\n",
    "else:\n",
    "    print(\"The number 10 is not present in the list.\")"
   ]
  },
  {
   "cell_type": "code",
   "execution_count": null,
   "id": "ca5d8793",
   "metadata": {},
   "outputs": [],
   "source": []
  }
 ],
 "metadata": {
  "kernelspec": {
   "display_name": "Python 3 (ipykernel)",
   "language": "python",
   "name": "python3"
  },
  "language_info": {
   "codemirror_mode": {
    "name": "ipython",
    "version": 3
   },
   "file_extension": ".py",
   "mimetype": "text/x-python",
   "name": "python",
   "nbconvert_exporter": "python",
   "pygments_lexer": "ipython3",
   "version": "3.9.13"
  }
 },
 "nbformat": 4,
 "nbformat_minor": 5
}
