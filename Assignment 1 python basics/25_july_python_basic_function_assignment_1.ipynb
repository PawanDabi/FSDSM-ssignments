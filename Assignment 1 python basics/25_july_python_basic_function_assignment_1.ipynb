{
 "cells": [
  {
   "cell_type": "markdown",
   "id": "f247069a",
   "metadata": {},
   "source": [
    "## 1. In Python, what is the difference between a built-in function and a user-defined function? Provide an example of each."
   ]
  },
  {
   "cell_type": "code",
   "execution_count": null,
   "id": "87c892bd",
   "metadata": {},
   "outputs": [],
   "source": [
    "the built-in function which in available in python which is not defined by user \n",
    "example:\n",
    "    here the \"len()\" is the built-in function which is provided in python"
   ]
  },
  {
   "cell_type": "code",
   "execution_count": 2,
   "id": "7c4956d1",
   "metadata": {},
   "outputs": [
    {
     "name": "stdout",
     "output_type": "stream",
     "text": [
      "17\n"
     ]
    }
   ],
   "source": [
    "l = [1,2,3,4,23,5,6,3,234,2,41,33,2435,234,24,32,423]\n",
    "print(len(l))"
   ]
  },
  {
   "cell_type": "code",
   "execution_count": null,
   "id": "d11fe851",
   "metadata": {},
   "outputs": [],
   "source": [
    "the user-defined function, which is defined by the user or programmer\n",
    "we use def keyword to declare the function\n",
    "example:\n",
    "    here, the user is defined the functio \"add()\"\n",
    "    and a and b are two  parameters of add() function"
   ]
  },
  {
   "cell_type": "code",
   "execution_count": 3,
   "id": "17020dd2",
   "metadata": {},
   "outputs": [],
   "source": [
    "def add(a,b):\n",
    "    return a+b"
   ]
  },
  {
   "cell_type": "code",
   "execution_count": 4,
   "id": "5ddd0ab9",
   "metadata": {},
   "outputs": [
    {
     "data": {
      "text/plain": [
       "8"
      ]
     },
     "execution_count": 4,
     "metadata": {},
     "output_type": "execute_result"
    }
   ],
   "source": [
    "add(3,5)"
   ]
  },
  {
   "cell_type": "markdown",
   "id": "5566c4d5",
   "metadata": {},
   "source": [
    "## 2. How can you pass arguments to a function in Python? Explain the difference between positional arguments and keyword arguments."
   ]
  },
  {
   "cell_type": "code",
   "execution_count": null,
   "id": "45cf813a",
   "metadata": {},
   "outputs": [],
   "source": [
    "we can pass the arguments when calling the function. when the function is created and we can pass the arguments while calling the function\n",
    "\n",
    "the difference between positional arguments and keyword arguments are\n",
    "the positional arguments are passed while calling the function \n",
    "example:"
   ]
  },
  {
   "cell_type": "code",
   "execution_count": 5,
   "id": "ce300b59",
   "metadata": {},
   "outputs": [],
   "source": [
    "def greetings(firstname, lastname):\n",
    "    return f\"hello, {firstname} {lastname}\""
   ]
  },
  {
   "cell_type": "code",
   "execution_count": 6,
   "id": "29b858c2",
   "metadata": {},
   "outputs": [
    {
     "data": {
      "text/plain": [
       "'hello, pawan dabi'"
      ]
     },
     "execution_count": 6,
     "metadata": {},
     "output_type": "execute_result"
    }
   ],
   "source": [
    "greetings(\"pawan\", \"dabi\")"
   ]
  },
  {
   "cell_type": "code",
   "execution_count": null,
   "id": "25009720",
   "metadata": {},
   "outputs": [],
   "source": [
    "the keyword arguments are those argument when the function is calling and we are giving the data in arguments with equal sign\n",
    "\"=\"\n",
    "example:\n",
    "    "
   ]
  },
  {
   "cell_type": "code",
   "execution_count": 7,
   "id": "7b0f9446",
   "metadata": {},
   "outputs": [],
   "source": [
    "def greetings(firstname, lastname):\n",
    "    return f\"hello, {firstname} {lastname}\""
   ]
  },
  {
   "cell_type": "code",
   "execution_count": 8,
   "id": "de4a333f",
   "metadata": {},
   "outputs": [
    {
     "data": {
      "text/plain": [
       "'hello, pawan dabi'"
      ]
     },
     "execution_count": 8,
     "metadata": {},
     "output_type": "execute_result"
    }
   ],
   "source": [
    "greetings(firstname=\"pawan\", lastname=\"dabi\")"
   ]
  },
  {
   "cell_type": "markdown",
   "id": "8ae14968",
   "metadata": {},
   "source": [
    "## 3. What is the purpose of the return statement in a function? Can a function have multiple return statements? Explain with an example."
   ]
  },
  {
   "cell_type": "code",
   "execution_count": null,
   "id": "4161109b",
   "metadata": {},
   "outputs": [],
   "source": [
    "The return statement in a function serves the purpose of specifying what value the function should produce as its result \n",
    "when it is called. When a function encounters a return statement, it immediately stops its execution and returns the specified\n",
    "value to the caller of the function. If no return statement is encountered during the function's execution, the function implicitly returns None by default."
   ]
  },
  {
   "cell_type": "code",
   "execution_count": null,
   "id": "13acf64f",
   "metadata": {},
   "outputs": [],
   "source": [
    "yes we can have miltiple times of return statement in python function\n",
    "here is an example"
   ]
  },
  {
   "cell_type": "code",
   "execution_count": 9,
   "id": "bc7be2b0",
   "metadata": {},
   "outputs": [
    {
     "name": "stdout",
     "output_type": "stream",
     "text": [
      "5.0\n",
      "can not divide!\n"
     ]
    }
   ],
   "source": [
    "def divide(a, b):\n",
    "    if b == 0:\n",
    "        return \"can not divide!\"\n",
    "    result = a / b\n",
    "    return result\n",
    "\n",
    "result1 = divide(10, 2)\n",
    "print(result1)  \n",
    "result2 = divide(8, 0)\n",
    "print(result2)"
   ]
  },
  {
   "cell_type": "markdown",
   "id": "450ca366",
   "metadata": {},
   "source": [
    "## 4. What are lambda functions in Python? How are they different from regular functions? Provide an example where a lambda function can be useful."
   ]
  },
  {
   "cell_type": "code",
   "execution_count": null,
   "id": "a2975241",
   "metadata": {},
   "outputs": [],
   "source": [
    "it is type of function which has no name, that is, it is a anonymus function. this lambda function has only two things \n",
    "1) arguments and\n",
    "2) expression\n",
    "\n",
    "lambda arguments: expression\n",
    "\n",
    "the lambda function do not have name, where as the regular function is declared by 'def' keyword.\n",
    "the lambda function used for simple operation, where as the regular function used for complex logic\n",
    "the lambda function are limited single expression where as the regular function can have multiple statements"
   ]
  },
  {
   "cell_type": "code",
   "execution_count": 10,
   "id": "b980e49a",
   "metadata": {},
   "outputs": [
    {
     "name": "stdout",
     "output_type": "stream",
     "text": [
      "[7, 4, 2, 11, 8, 5]\n"
     ]
    }
   ],
   "source": [
    "numbers = [7, 2, 11, 4, 8, 5]\n",
    "sorted_numbers = sorted(numbers, key=lambda x: x % 3)\n",
    "print(sorted_numbers) "
   ]
  },
  {
   "cell_type": "markdown",
   "id": "6f9f14f7",
   "metadata": {},
   "source": [
    "## 5. How does the concept of \"scope\" apply to functions in Python? Explain the difference between local scope and global scope."
   ]
  },
  {
   "cell_type": "code",
   "execution_count": null,
   "id": "19d82e44",
   "metadata": {},
   "outputs": [],
   "source": [
    "\"scope\" refers to the region of a program where a particular variable is accessible. Variables defined in different scopes\n",
    "have different levels of visibility and can only be accessed within their respective scopes. Understanding scope is crucial \n",
    "to avoid conflicts and understand how variables behave in different parts of your code.\n",
    "\n",
    "the difference is, Local scope is limited to a specific function, while global scope extends throughout the entire codebase. "
   ]
  },
  {
   "cell_type": "markdown",
   "id": "3982d5c9",
   "metadata": {},
   "source": [
    "## 6. How can you use the \"return\" statement in a Python function to return multiple values?"
   ]
  },
  {
   "cell_type": "code",
   "execution_count": 11,
   "id": "929bc15f",
   "metadata": {},
   "outputs": [
    {
     "name": "stdout",
     "output_type": "stream",
     "text": [
      "(10, 20, 30)\n"
     ]
    }
   ],
   "source": [
    "def multiple_values():\n",
    "    a = 10\n",
    "    b = 20\n",
    "    c = 30\n",
    "    return a, b, c\n",
    "\n",
    "result = multiple_values()\n",
    "print(result)"
   ]
  },
  {
   "cell_type": "markdown",
   "id": "67d7dfde",
   "metadata": {},
   "source": [
    "## 7. What is the difference between the \"pass by value\" and \"pass by reference\" concepts when it comes to function arguments in Python?"
   ]
  },
  {
   "cell_type": "code",
   "execution_count": null,
   "id": "1d5a9930",
   "metadata": {},
   "outputs": [],
   "source": [
    "Python uses \"pass by object reference,\" and the behavior can appear similar to both \"pass by value\" and \"pass by reference\" \n",
    "depending on whether the object is mutable or immutable. Understanding this distinction is crucial when working with functions \n",
    "that take mutable objects as arguments, as it can affect the original data."
   ]
  },
  {
   "cell_type": "markdown",
   "id": "6a65a3ba",
   "metadata": {},
   "source": [
    "## 8. Create a function that can intake integer or decimal value and do following operations:"
   ]
  },
  {
   "cell_type": "code",
   "execution_count": 12,
   "id": "368dc8c2",
   "metadata": {},
   "outputs": [],
   "source": [
    "import math\n",
    "\n",
    "def math_operations(value):\n",
    "    log_result = math.log(value)\n",
    "    exp_result = math.exp(value)\n",
    "    power_result = math.pow(2, value)\n",
    "    sqrt_result = math.sqrt(value)\n",
    "    \n",
    "    return log_result, exp_result, power_result, sqrt_result\n"
   ]
  },
  {
   "cell_type": "code",
   "execution_count": 13,
   "id": "71b378a7",
   "metadata": {},
   "outputs": [
    {
     "name": "stdout",
     "output_type": "stream",
     "text": [
      "Integer result: (1.3862943611198906, 54.598150033144236, 16.0, 2.0)\n",
      "Decimal result: (0.9162907318741551, 12.182493960703473, 5.656854249492381, 1.5811388300841898)\n"
     ]
    }
   ],
   "source": [
    "integer_result = math_operations(4)   \n",
    "decimal_result = math_operations(2.5) \n",
    "\n",
    "print(\"Integer result:\", integer_result)\n",
    "print(\"Decimal result:\", decimal_result)"
   ]
  },
  {
   "cell_type": "markdown",
   "id": "63e7144d",
   "metadata": {},
   "source": [
    "## 9. Create a function that takes a full name as an argument and returns first name and last name."
   ]
  },
  {
   "cell_type": "code",
   "execution_count": 18,
   "id": "9a3f3d83",
   "metadata": {},
   "outputs": [
    {
     "name": "stdout",
     "output_type": "stream",
     "text": [
      "First Name: pawan\n",
      "Last Name: dabi\n"
     ]
    }
   ],
   "source": [
    "def name(full_name):\n",
    "    first_name, last_name = full_name.split()\n",
    "    return first_name, last_name\n",
    "\n",
    "full_name_1 = \"pawan dabi\"\n",
    "first_name_1, last_name_1 = name(full_name_1)\n",
    "print(\"First Name:\", first_name_1)  \n",
    "print(\"Last Name:\", last_name_1)  \n"
   ]
  },
  {
   "cell_type": "code",
   "execution_count": null,
   "id": "9fac60ad",
   "metadata": {},
   "outputs": [],
   "source": []
  },
  {
   "cell_type": "code",
   "execution_count": null,
   "id": "a6441908",
   "metadata": {},
   "outputs": [],
   "source": []
  }
 ],
 "metadata": {
  "kernelspec": {
   "display_name": "Python 3 (ipykernel)",
   "language": "python",
   "name": "python3"
  },
  "language_info": {
   "codemirror_mode": {
    "name": "ipython",
    "version": 3
   },
   "file_extension": ".py",
   "mimetype": "text/x-python",
   "name": "python",
   "nbconvert_exporter": "python",
   "pygments_lexer": "ipython3",
   "version": "3.9.13"
  }
 },
 "nbformat": 4,
 "nbformat_minor": 5
}
