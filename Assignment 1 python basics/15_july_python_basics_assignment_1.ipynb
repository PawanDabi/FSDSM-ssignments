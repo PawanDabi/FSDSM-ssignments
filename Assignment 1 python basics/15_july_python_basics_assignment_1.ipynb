{
 "cells": [
  {
   "cell_type": "markdown",
   "id": "b3bd4dad",
   "metadata": {},
   "source": [
    "## 1. In the below elements which of them are values or an expression? eg:- values can be\n",
    "## integer or string and expressions will be mathematical operators."
   ]
  },
  {
   "cell_type": "code",
   "execution_count": null,
   "id": "d65801a1",
   "metadata": {},
   "outputs": [],
   "source": [
    "Answer:\n",
    "    * is a values\n",
    "    'hello' is a values\n",
    "    -87.8 are the values\n",
    "    - is the expression\n",
    "    / is the expression\n",
    "    + is the expression\n",
    "    6 is  the values"
   ]
  },
  {
   "cell_type": "markdown",
   "id": "97b4535c",
   "metadata": {},
   "source": [
    "## 2. What is the difference between string and variable?\n"
   ]
  },
  {
   "cell_type": "code",
   "execution_count": null,
   "id": "37d99dca",
   "metadata": {},
   "outputs": [],
   "source": [
    "String:- the string is the data type that represents the sequence of the character. it is used to store and manipulate the \t\t\t \ttextual, string data such as sentence, word.\n",
    "    \twe use single and double quote to represent the string. In python sometimes we use triple qoute to represent the string.\n",
    "        examaple: \"this is python assignment\" \n",
    "            \t  'this is python programming language'\n",
    "\n",
    "variable:- In python, the variable is a named storage location in program that holds multiple data types like integer, string, \n",
    "    \t   floating point number etc. we use assignment operator to store the data in a variable\n",
    "        \texample:  var_1 = 23\n",
    "                \t  var_2 = \"iNeuron\"\n",
    "                      var_3 = 34.33"
   ]
  },
  {
   "cell_type": "markdown",
   "id": "102a4ba2",
   "metadata": {},
   "source": [
    "## 3. Describe three different data types."
   ]
  },
  {
   "cell_type": "code",
   "execution_count": null,
   "id": "a830e1cb",
   "metadata": {},
   "outputs": [],
   "source": [
    "the three data types are as follow: \n",
    "\n",
    "1)  Integer:- The integer data type used to store whole number in programming language. we can perform many operations with \t\t\t\t  integer data type like addition, substraction, multiplication, division etc\n",
    "\t\t\t  example: age = 23\n",
    "              \t\t   contact_no = 23324152234\n",
    "\n",
    "2)  Float:-  The float data type used to represent the decimal numbers. it is also used to represent very large and small \t\t\t\t\t numbers using scientific notation \n",
    "\t\t\t example: pi = 3.14159\n",
    "             \t\t  temprature = -10.5\n",
    "                      \n",
    "3)  String:-  the string is the data type that represents the sequence of the character. it is used to store and manipulate the \t\t\t  textual, string data such as sentence, word.\n",
    "    \t      we use single and double quote to represent the string. In python sometimes we use triple qoute to represent the \t               string.\n",
    "              examaple: \"this is python assignment\" \n",
    "            \t        'this is python programming language'                      "
   ]
  },
  {
   "cell_type": "markdown",
   "id": "be8a0443",
   "metadata": {},
   "source": [
    "## 4. What is an expression made up of? What do all expressions do?"
   ]
  },
  {
   "cell_type": "code",
   "execution_count": null,
   "id": "257c0fe8",
   "metadata": {},
   "outputs": [],
   "source": [
    "An expression is a combination of values, variables, operators, and function calls that evaluates to a single value. It can be as simple as a single value or as complex as a combination of multiple sub-expressions.\n",
    "\n",
    "1) Values: These can be literals, such as numbers (integers or floats), strings, or Boolean values (True or False).\n",
    "\n",
    "2) Variables: These are names that represent memory locations holding values. Variables can be assigned values and used within \t\t\t\t  expressions.\n",
    "\n",
    "3) Operators: These are symbols or keywords that perform specific operations on values or variables. \n",
    "\t\t\t   Examples: include arithmetic operators (+, -, *, /), \n",
    "                         comparison operators (>, <, ==, !=),  \n",
    "                         logical operators (and, or, not), etc\n",
    "                         \n",
    "4) Function calls: These involve invoking built-in or user-defined functions to perform specific operations on values or \t\t\t\t\t\t   variables.                         \n"
   ]
  },
  {
   "cell_type": "markdown",
   "id": "9ba06f87",
   "metadata": {},
   "source": [
    "## 5. This assignment statements, like spam = 10. What is the difference between an expression and a statement?"
   ]
  },
  {
   "cell_type": "code",
   "execution_count": null,
   "id": "1ca8e839",
   "metadata": {},
   "outputs": [],
   "source": [
    "The difference between expression and a statement are:\n",
    "    \n",
    "the expression is the combination of value, variable, operator and function that can be produce in a single variable. \n",
    "for example: 2+3 is an expression that gives 5 \n",
    "    \n",
    "on the other hand, the statement is a instruction in programming language that perform specific action. the statement can include\n",
    "assignment, loops, conditionals, functions and more \n",
    "\n",
    "An assignment statement, such as spam = 10, is an example where a value (10) is assigned to the variable spam. \n",
    "Statements do not produce a value themselves but rather execute a particular operation or control the program's behavior."
   ]
  },
  {
   "cell_type": "markdown",
   "id": "98bd28f9",
   "metadata": {},
   "source": [
    "## 6. After running the following code, what does the variable bacon contain?\n",
    "## bacon = 22\n",
    "## bacon + 1"
   ]
  },
  {
   "cell_type": "code",
   "execution_count": 2,
   "id": "dbb49fdc",
   "metadata": {},
   "outputs": [
    {
     "name": "stdout",
     "output_type": "stream",
     "text": [
      "22\n"
     ]
    }
   ],
   "source": [
    "bacon = 22\n",
    "bacon+1\n",
    "print(bacon)"
   ]
  },
  {
   "cell_type": "markdown",
   "id": "f25fceb6",
   "metadata": {},
   "source": [
    "## 7. What should the values of the following two terms be?\n",
    "## 'spam' + 'spamspam'\n",
    "## 'spam' * 3"
   ]
  },
  {
   "cell_type": "code",
   "execution_count": 6,
   "id": "b65dbd82",
   "metadata": {},
   "outputs": [
    {
     "data": {
      "text/plain": [
       "'spamspamspam'"
      ]
     },
     "execution_count": 6,
     "metadata": {},
     "output_type": "execute_result"
    }
   ],
   "source": [
    "'spam' + 'spamspam'\n",
    "'spam' * 3"
   ]
  },
  {
   "cell_type": "markdown",
   "id": "b56a0cbe",
   "metadata": {},
   "source": [
    "## 8. Why is eggs a valid variable name while 100 is invalid?"
   ]
  },
  {
   "cell_type": "code",
   "execution_count": null,
   "id": "f079587f",
   "metadata": {},
   "outputs": [],
   "source": [
    "variable names must start with a letter or underscore, followed by letters, digits, or underscores. \n",
    "They cannot be Python keywords. While 'eggs' satisfies these criteria, 100 does not because\n",
    "it begins with a digit and consists solely of digits."
   ]
  },
  {
   "cell_type": "markdown",
   "id": "9c792520",
   "metadata": {},
   "source": [
    "## 9. What three functions can be used to get the integer, floating-point number, or string\n",
    "## version of a value?"
   ]
  },
  {
   "cell_type": "code",
   "execution_count": null,
   "id": "fae94118",
   "metadata": {},
   "outputs": [],
   "source": [
    "1) integer (int): this function converts the value to an integer\n",
    "    example:"
   ]
  },
  {
   "cell_type": "code",
   "execution_count": 7,
   "id": "b6d54a3a",
   "metadata": {},
   "outputs": [
    {
     "name": "stdout",
     "output_type": "stream",
     "text": [
      "23\n"
     ]
    }
   ],
   "source": [
    "num = int(23.22)\n",
    "print(num)"
   ]
  },
  {
   "cell_type": "code",
   "execution_count": null,
   "id": "7e414c06",
   "metadata": {},
   "outputs": [],
   "source": [
    "2) float: this function converts the value to a floating number\n",
    "    example:"
   ]
  },
  {
   "cell_type": "code",
   "execution_count": 8,
   "id": "f2f1c807",
   "metadata": {},
   "outputs": [
    {
     "name": "stdout",
     "output_type": "stream",
     "text": [
      "5.0\n"
     ]
    }
   ],
   "source": [
    "num = float(5)\n",
    "print(num)"
   ]
  },
  {
   "cell_type": "code",
   "execution_count": null,
   "id": "f48e092d",
   "metadata": {},
   "outputs": [],
   "source": [
    "3) string (str): this function takes a single argument and returns a string version of that value."
   ]
  },
  {
   "cell_type": "code",
   "execution_count": 9,
   "id": "0427fc72",
   "metadata": {},
   "outputs": [
    {
     "name": "stdout",
     "output_type": "stream",
     "text": [
      "42\n"
     ]
    }
   ],
   "source": [
    "num =  str(42)\n",
    "print(num)"
   ]
  },
  {
   "cell_type": "markdown",
   "id": "a96a2673",
   "metadata": {},
   "source": [
    "## 10. Why does this expression cause an error? How can you fix it?\n",
    "## 'I have eaten'+ 99 + 'burritos';"
   ]
  },
  {
   "cell_type": "code",
   "execution_count": null,
   "id": "61244c26",
   "metadata": {},
   "outputs": [],
   "source": [
    "this expression will cause the error because it is adding string with integer.\n",
    "to fix this error we have to convert integer into string "
   ]
  },
  {
   "cell_type": "code",
   "execution_count": 11,
   "id": "9ebf710b",
   "metadata": {},
   "outputs": [
    {
     "name": "stdout",
     "output_type": "stream",
     "text": [
      "i have eaten 99 burritos\n"
     ]
    }
   ],
   "source": [
    "print('i have eaten '+str(99)+' burritos')"
   ]
  },
  {
   "cell_type": "code",
   "execution_count": null,
   "id": "fa61f27c",
   "metadata": {},
   "outputs": [],
   "source": []
  },
  {
   "cell_type": "code",
   "execution_count": null,
   "id": "c5989cca",
   "metadata": {},
   "outputs": [],
   "source": []
  }
 ],
 "metadata": {
  "kernelspec": {
   "display_name": "Python 3 (ipykernel)",
   "language": "python",
   "name": "python3"
  },
  "language_info": {
   "codemirror_mode": {
    "name": "ipython",
    "version": 3
   },
   "file_extension": ".py",
   "mimetype": "text/x-python",
   "name": "python",
   "nbconvert_exporter": "python",
   "pygments_lexer": "ipython3",
   "version": "3.9.13"
  }
 },
 "nbformat": 4,
 "nbformat_minor": 5
}
