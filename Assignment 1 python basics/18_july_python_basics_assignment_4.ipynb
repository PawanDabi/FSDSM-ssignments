{
 "cells": [
  {
   "cell_type": "markdown",
   "id": "8892ffb9",
   "metadata": {},
   "source": [
    "## 1. What exactly is []?"
   ]
  },
  {
   "cell_type": "code",
   "execution_count": null,
   "id": "d1222685",
   "metadata": {},
   "outputs": [],
   "source": [
    "in python the '[]' is an empty list. we use '[]' to create a list of value or element to store in a single variable.\n",
    "example:"
   ]
  },
  {
   "cell_type": "code",
   "execution_count": 1,
   "id": "f37778a9",
   "metadata": {},
   "outputs": [
    {
     "name": "stdout",
     "output_type": "stream",
     "text": [
      "[]\n"
     ]
    }
   ],
   "source": [
    "a=[]\n",
    "print(a)\n",
    "\n",
    "# basically it is an empty list"
   ]
  },
  {
   "cell_type": "code",
   "execution_count": 2,
   "id": "2e81f20f",
   "metadata": {},
   "outputs": [
    {
     "name": "stdout",
     "output_type": "stream",
     "text": [
      "[1, 2, 3, 4, 5]\n"
     ]
    }
   ],
   "source": [
    "a=[1,2,3,4,5]\n",
    "print(a)\n",
    "# list with some elements"
   ]
  },
  {
   "cell_type": "markdown",
   "id": "ab8151d4",
   "metadata": {},
   "source": [
    "## 2. In a list of values stored in a variable called spam, how would you assign the value &#39;hello&#39; as the third value? (Assume [2, 4, 6, 8, 10] are in spam.)"
   ]
  },
  {
   "cell_type": "code",
   "execution_count": 4,
   "id": "8f46b838",
   "metadata": {},
   "outputs": [
    {
     "name": "stdout",
     "output_type": "stream",
     "text": [
      "[2, 4, 'hello', 8, 10]\n"
     ]
    }
   ],
   "source": [
    "spam=[2,4,6,8,10]\n",
    "spam[2] = \"hello\"\n",
    "print(spam)"
   ]
  },
  {
   "cell_type": "markdown",
   "id": "f7cb7680",
   "metadata": {},
   "source": [
    "## Let&#39;s pretend the spam includes the list [&#39;a&#39;, &#39;b&#39;, &#39;c&#39;, &#39;d&#39;] for the next three queries."
   ]
  },
  {
   "cell_type": "markdown",
   "id": "72a56fef",
   "metadata": {},
   "source": [
    "## 3. What is the value of spam[int(int(&#39;3&#39; * 2) / 11)]?"
   ]
  },
  {
   "cell_type": "code",
   "execution_count": null,
   "id": "65d5e4ea",
   "metadata": {},
   "outputs": [],
   "source": [
    "after solving spam[int(int('3'*2)/11], we will get spam[3] which is d.\n",
    "so the answer is 'd'"
   ]
  },
  {
   "cell_type": "markdown",
   "id": "8eac7e37",
   "metadata": {},
   "source": [
    "## 4. What is the value of spam[-1]?"
   ]
  },
  {
   "cell_type": "code",
   "execution_count": 8,
   "id": "77789225",
   "metadata": {},
   "outputs": [
    {
     "data": {
      "text/plain": [
       "'d'"
      ]
     },
     "execution_count": 8,
     "metadata": {},
     "output_type": "execute_result"
    }
   ],
   "source": [
    "spam = ['a','b','c','d']\n",
    "spam[-1]"
   ]
  },
  {
   "cell_type": "markdown",
   "id": "f7b50e4e",
   "metadata": {},
   "source": [
    "## 5. What is the value of spam[:2]?"
   ]
  },
  {
   "cell_type": "code",
   "execution_count": 9,
   "id": "96e14f0a",
   "metadata": {},
   "outputs": [
    {
     "data": {
      "text/plain": [
       "['a', 'b']"
      ]
     },
     "execution_count": 9,
     "metadata": {},
     "output_type": "execute_result"
    }
   ],
   "source": [
    "spam[:2]"
   ]
  },
  {
   "cell_type": "markdown",
   "id": "f4dc506b",
   "metadata": {},
   "source": [
    "## Let&#39;s pretend bacon has the list [3.14, &#39;cat,&#39; 11, &#39;cat,&#39; True] for the next three questions."
   ]
  },
  {
   "cell_type": "markdown",
   "id": "28250113",
   "metadata": {},
   "source": [
    "## 6. What is the value of bacon.index(&#39;cat&#39;)?"
   ]
  },
  {
   "cell_type": "code",
   "execution_count": 19,
   "id": "83358e3e",
   "metadata": {},
   "outputs": [
    {
     "data": {
      "text/plain": [
       "1"
      ]
     },
     "execution_count": 19,
     "metadata": {},
     "output_type": "execute_result"
    }
   ],
   "source": [
    "bacon = [3.14, 'cat', 11, 'cat', True]\n",
    "bacon.index('cat')"
   ]
  },
  {
   "cell_type": "markdown",
   "id": "a70e4984",
   "metadata": {},
   "source": [
    "## 7. How does bacon.append(99) change the look of the list value in bacon?"
   ]
  },
  {
   "cell_type": "code",
   "execution_count": 20,
   "id": "555e2931",
   "metadata": {},
   "outputs": [
    {
     "name": "stdout",
     "output_type": "stream",
     "text": [
      "[3.14, 'cat', 11, 'cat', True, 99]\n"
     ]
    }
   ],
   "source": [
    "bacon.append(99)\n",
    "print(bacon)"
   ]
  },
  {
   "cell_type": "markdown",
   "id": "89c1a5e2",
   "metadata": {},
   "source": [
    "## 8. How does bacon.remove(&#39;cat&#39;) change the look of the list in bacon?"
   ]
  },
  {
   "cell_type": "code",
   "execution_count": 22,
   "id": "3650ea38",
   "metadata": {},
   "outputs": [
    {
     "name": "stdout",
     "output_type": "stream",
     "text": [
      "[3.14, 11, 'cat', True, 99]\n"
     ]
    }
   ],
   "source": [
    "bacon.remove('cat')\n",
    "print(bacon)"
   ]
  },
  {
   "cell_type": "markdown",
   "id": "8b77a844",
   "metadata": {},
   "source": [
    "## 9. What are the list concatenation and list replication operators?"
   ]
  },
  {
   "cell_type": "code",
   "execution_count": null,
   "id": "8e4ca38c",
   "metadata": {},
   "outputs": [],
   "source": [
    "the list concatenation:\n",
    "    \n",
    "    the '+' operator is used to add two list together\n",
    "    example:"
   ]
  },
  {
   "cell_type": "code",
   "execution_count": 23,
   "id": "c8634274",
   "metadata": {},
   "outputs": [
    {
     "name": "stdout",
     "output_type": "stream",
     "text": [
      "[1, 2, 3, 4, 5, 6, 7, 8, 9, 10]\n"
     ]
    }
   ],
   "source": [
    "list_1=[1,2,3,4,5]\n",
    "list_2=[6,7,8,9,10]\n",
    "list_3=list_1+list_2\n",
    "print(list_3)"
   ]
  },
  {
   "cell_type": "code",
   "execution_count": null,
   "id": "f288781d",
   "metadata": {},
   "outputs": [],
   "source": [
    "the list replication:\n",
    "    \n",
    "    The '*' operator is used to replicate a list by a specified number of times\n",
    "    example:"
   ]
  },
  {
   "cell_type": "code",
   "execution_count": 25,
   "id": "1c0aab14",
   "metadata": {},
   "outputs": [
    {
     "name": "stdout",
     "output_type": "stream",
     "text": [
      "[1, 2, 3, 4, 5, 1, 2, 3, 4, 5, 1, 2, 3, 4, 5]\n"
     ]
    }
   ],
   "source": [
    "list_1=[1,2,3,4,5]\n",
    "list_replicated=list_1*3\n",
    "print(list_replicated)"
   ]
  },
  {
   "cell_type": "markdown",
   "id": "0c12d627",
   "metadata": {},
   "source": [
    "## 10. What is difference between the list methods append() and insert()?"
   ]
  },
  {
   "cell_type": "code",
   "execution_count": null,
   "id": "5fd2a237",
   "metadata": {},
   "outputs": [],
   "source": [
    "the list method append(), add the item or value in the list at the end of the list.\n",
    "on the other hand the insert() method, add the value or item in the list at the given particular index.\n",
    "\n",
    "for exampleL:"
   ]
  },
  {
   "cell_type": "code",
   "execution_count": 26,
   "id": "e00b6106",
   "metadata": {},
   "outputs": [
    {
     "name": "stdout",
     "output_type": "stream",
     "text": [
      "[1, 2, 3, 4, 5]\n"
     ]
    }
   ],
   "source": [
    "list_1=[1,2,3,4]\n",
    "list_1.append(5)\n",
    "print(list_1)"
   ]
  },
  {
   "cell_type": "code",
   "execution_count": 28,
   "id": "176f908a",
   "metadata": {},
   "outputs": [
    {
     "name": "stdout",
     "output_type": "stream",
     "text": [
      "[1, 2, 3, 4, 5]\n"
     ]
    }
   ],
   "source": [
    "list_1=[1,3,4,5]\n",
    "list_1.insert(1,2)\n",
    "print(list_1)"
   ]
  },
  {
   "cell_type": "markdown",
   "id": "ce68a67f",
   "metadata": {},
   "source": [
    "## 11. What are the two methods for removing items from a list?"
   ]
  },
  {
   "cell_type": "code",
   "execution_count": null,
   "id": "802129fe",
   "metadata": {},
   "outputs": [],
   "source": [
    "the two methods are 'remove' and 'del'. \n",
    "example"
   ]
  },
  {
   "cell_type": "code",
   "execution_count": 30,
   "id": "4bc9a19d",
   "metadata": {},
   "outputs": [
    {
     "name": "stdout",
     "output_type": "stream",
     "text": [
      "[1, 2, 3, 4, 5]\n"
     ]
    }
   ],
   "source": [
    "list_1=[1,2,3,4,5,6]\n",
    "list_1.remove(6)\n",
    "print(list_1)"
   ]
  },
  {
   "cell_type": "code",
   "execution_count": 31,
   "id": "a20116e9",
   "metadata": {},
   "outputs": [
    {
     "name": "stdout",
     "output_type": "stream",
     "text": [
      "[12, 23, 56, 78, 89]\n"
     ]
    }
   ],
   "source": [
    "list_1=[12,23,44,56,78,89]\n",
    "del list_1[2]\n",
    "print(list_1)"
   ]
  },
  {
   "cell_type": "markdown",
   "id": "a6543230",
   "metadata": {},
   "source": [
    "## 12. Describe how list values and string values are identical."
   ]
  },
  {
   "cell_type": "code",
   "execution_count": null,
   "id": "cedc775b",
   "metadata": {},
   "outputs": [],
   "source": [
    "both list and string are identical in python. the difference is that, the list are mutable and the string are immutable.\n",
    "secoundly  the elements or values in the list are of different type where as the string holds only character that all are of string type"
   ]
  },
  {
   "cell_type": "markdown",
   "id": "8a5732dd",
   "metadata": {},
   "source": [
    "##  13. What&#39;s the difference between tuples and lists?"
   ]
  },
  {
   "cell_type": "code",
   "execution_count": null,
   "id": "ff9d8fef",
   "metadata": {},
   "outputs": [],
   "source": [
    "the differnce between list and tuples are :\n",
    "    \n",
    "once the list is created, the elements of the list can be changeable. that is, the list are mutable\n",
    "where as the tuple are immutable in nature, means that, once the tuple is created it can be change\n",
    "\n",
    "we store elements in tuple inside '()' brackets where as we use square brackets '[]' in list\n",
    "\n",
    "the slicing in both are same \n",
    "\n",
    "tuple is faster then list"
   ]
  },
  {
   "cell_type": "markdown",
   "id": "26facdde",
   "metadata": {},
   "source": [
    "## 14. How do you type a tuple value that only contains the integer 42?"
   ]
  },
  {
   "cell_type": "code",
   "execution_count": 33,
   "id": "6ef9c90f",
   "metadata": {},
   "outputs": [
    {
     "name": "stdout",
     "output_type": "stream",
     "text": [
      "42\n"
     ]
    }
   ],
   "source": [
    "tup = (42)\n",
    "print(tup)"
   ]
  },
  {
   "cell_type": "markdown",
   "id": "66699b73",
   "metadata": {},
   "source": [
    "## 15. How do you get a list value&#39;s tuple form? How do you get a tuple value&#39;s list form?"
   ]
  },
  {
   "cell_type": "code",
   "execution_count": null,
   "id": "e13b92e5",
   "metadata": {},
   "outputs": [],
   "source": [
    "list value's tuple form: "
   ]
  },
  {
   "cell_type": "code",
   "execution_count": 34,
   "id": "93f67260",
   "metadata": {},
   "outputs": [
    {
     "name": "stdout",
     "output_type": "stream",
     "text": [
      "(1, 2, 3)\n"
     ]
    }
   ],
   "source": [
    "my_list = [1, 2, 3]\n",
    "my_tuple = tuple(my_list)\n",
    "print(my_tuple)"
   ]
  },
  {
   "cell_type": "code",
   "execution_count": null,
   "id": "fcd05046",
   "metadata": {},
   "outputs": [],
   "source": [
    "tuple value's list form:"
   ]
  },
  {
   "cell_type": "code",
   "execution_count": 35,
   "id": "0ae74e36",
   "metadata": {},
   "outputs": [
    {
     "name": "stdout",
     "output_type": "stream",
     "text": [
      "[1, 2, 3]\n"
     ]
    }
   ],
   "source": [
    "my_tuple = (1, 2, 3)\n",
    "my_list = list(my_tuple)\n",
    "print(my_list)"
   ]
  },
  {
   "cell_type": "markdown",
   "id": "30c0a883",
   "metadata": {},
   "source": [
    "## 16. Variables that &quot;contain&quot; list values are not necessarily lists themselves. Instead, what do they contain?"
   ]
  },
  {
   "cell_type": "code",
   "execution_count": null,
   "id": "da65e0d2",
   "metadata": {},
   "outputs": [],
   "source": [
    "variables that \"contain\" list values do not actually contain the list itself. \n",
    "Instead, they contain a reference to the list object."
   ]
  },
  {
   "cell_type": "markdown",
   "id": "47ace975",
   "metadata": {},
   "source": [
    "## 17. How do you distinguish between copy.copy() and copy.deepcopy()?"
   ]
  },
  {
   "cell_type": "code",
   "execution_count": null,
   "id": "3c473465",
   "metadata": {},
   "outputs": [],
   "source": [
    "copy.copy(): \n",
    "    This function creates a shallow copy of an object. A shallow copy creates a new object, \n",
    "    but the contents of the object are references to the original nested objects."
   ]
  },
  {
   "cell_type": "code",
   "execution_count": 36,
   "id": "8a58823f",
   "metadata": {},
   "outputs": [
    {
     "name": "stdout",
     "output_type": "stream",
     "text": [
      "[1, [5, 3]]\n",
      "[4, [5, 3]]\n"
     ]
    }
   ],
   "source": [
    "import copy\n",
    "\n",
    "list_1 = [1, [2, 3]]\n",
    "list_2 = copy.copy(list_1)\n",
    "\n",
    "list_2[0] = 4\n",
    "list_2[1][0] = 5\n",
    "\n",
    "print(list_1)   \n",
    "print(list_2)"
   ]
  },
  {
   "cell_type": "code",
   "execution_count": null,
   "id": "48897eb4",
   "metadata": {},
   "outputs": [],
   "source": [
    "copy.deepcopy(): This function creates a deep copy of an object. A deep copy creates a new object and recursively \n",
    "    copies all the nested objects within it."
   ]
  },
  {
   "cell_type": "code",
   "execution_count": 37,
   "id": "bc701729",
   "metadata": {},
   "outputs": [
    {
     "name": "stdout",
     "output_type": "stream",
     "text": [
      "[1, [2, 3]]\n",
      "[4, [5, 3]]\n"
     ]
    }
   ],
   "source": [
    "import copy\n",
    "\n",
    "list1 = [1, [2, 3]]\n",
    "list2 = copy.deepcopy(list1)\n",
    "\n",
    "list2[0] = 4\n",
    "list2[1][0] = 5\n",
    "\n",
    "print(list1)   \n",
    "print(list2)   "
   ]
  },
  {
   "cell_type": "code",
   "execution_count": null,
   "id": "a708ddb8",
   "metadata": {},
   "outputs": [],
   "source": []
  }
 ],
 "metadata": {
  "kernelspec": {
   "display_name": "Python 3 (ipykernel)",
   "language": "python",
   "name": "python3"
  },
  "language_info": {
   "codemirror_mode": {
    "name": "ipython",
    "version": 3
   },
   "file_extension": ".py",
   "mimetype": "text/x-python",
   "name": "python",
   "nbconvert_exporter": "python",
   "pygments_lexer": "ipython3",
   "version": "3.9.13"
  }
 },
 "nbformat": 4,
 "nbformat_minor": 5
}
