{
 "cells": [
  {
   "cell_type": "markdown",
   "id": "6e79bce8",
   "metadata": {},
   "source": [
    "## 1. What is the role of the 'else' block in a try-except statement? Provide an example scenario where it would be useful.\n",
    "\n"
   ]
  },
  {
   "cell_type": "code",
   "execution_count": null,
   "id": "b7aed5ae",
   "metadata": {},
   "outputs": [],
   "source": [
    "In a try-except statement, the else block is used to specify a block of code that should be executed if no exception is raised \n",
    "within the corresponding try block. This allows you to separate the code that might raise exceptions from the code that should\n",
    "be executed when no exceptions occur. The else block is optional and comes after the except block(s) in the try-except structure."
   ]
  },
  {
   "cell_type": "code",
   "execution_count": 1,
   "id": "f2c11e86",
   "metadata": {},
   "outputs": [
    {
     "name": "stdout",
     "output_type": "stream",
     "text": [
      "Enter a dividend: 23\n",
      "Enter a divisor: 2\n",
      "The result of division is: 11.5\n"
     ]
    }
   ],
   "source": [
    "try:\n",
    "    num1 = int(input(\"Enter a dividend: \"))\n",
    "    num2 = int(input(\"Enter a divisor: \"))\n",
    "    result = num1 / num2\n",
    "except ZeroDivisionError:\n",
    "    print(\"Error: Cannot divide by zero.\")\n",
    "except ValueError:\n",
    "    print(\"Error: Please enter valid integers.\")\n",
    "else:\n",
    "    print(f\"The result of division is: {result}\")\n"
   ]
  },
  {
   "cell_type": "markdown",
   "id": "9c3f20c1",
   "metadata": {},
   "source": [
    "## 2. Can a try-except block be nested inside another try-except block? Explain with an example."
   ]
  },
  {
   "cell_type": "code",
   "execution_count": null,
   "id": "72c2a8fb",
   "metadata": {},
   "outputs": [],
   "source": [
    "Yes, a try-except block can be nested inside another try-except block. This is useful when you want to handle different types \n",
    "of exceptions at different levels of code execution. Each nested try-except block can handle specific exceptions that might \n",
    "occur within its scope."
   ]
  },
  {
   "cell_type": "code",
   "execution_count": 2,
   "id": "bf3b611a",
   "metadata": {},
   "outputs": [
    {
     "name": "stdout",
     "output_type": "stream",
     "text": [
      "Enter a number: 44\n",
      "Enter another number: 12\n",
      "The result of division is: 3.6666666666666665\n"
     ]
    }
   ],
   "source": [
    "try:\n",
    "    outer_num = int(input(\"Enter a number: \"))\n",
    "    try:\n",
    "        inner_num = int(input(\"Enter another number: \"))\n",
    "        result = outer_num / inner_num\n",
    "    except ZeroDivisionError:\n",
    "        print(\"Inner Error: Cannot divide by zero.\")\n",
    "    except ValueError:\n",
    "        print(\"Inner Error: Please enter valid integers.\")\n",
    "except ValueError:\n",
    "    print(\"Outer Error: Please enter a valid integer.\")\n",
    "else:\n",
    "    print(f\"The result of division is: {result}\")\n"
   ]
  },
  {
   "cell_type": "markdown",
   "id": "0d381e8c",
   "metadata": {},
   "source": [
    "## 3. How can you create a custom exception class in Python? Provide an example that demonstrates its usage."
   ]
  },
  {
   "cell_type": "code",
   "execution_count": null,
   "id": "7a28d7e2",
   "metadata": {},
   "outputs": [],
   "source": [
    "we can create a custom exception class by defining a new class that inherits from the built-in Exception class or any of its \n",
    "subclasses. This allows you to define your own exception types that can be raised and caught just like built-in exceptions. \n",
    "Custom exception classes are helpful when you want to handle specific error cases in a more organized and informative manner."
   ]
  },
  {
   "cell_type": "code",
   "execution_count": 3,
   "id": "ce7c47e8",
   "metadata": {},
   "outputs": [
    {
     "name": "stdout",
     "output_type": "stream",
     "text": [
      "Enter a number to calculate its square root: 44\n",
      "The square root of 44.0 is: 6.63\n"
     ]
    }
   ],
   "source": [
    "class InvalidInputError(Exception):\n",
    "    def __init__(self, input_value):\n",
    "        self.input_value = input_value\n",
    "        super().__init__(f\"Invalid input: {input_value} is not acceptable.\")\n",
    "\n",
    "def calculate_square_root(number):\n",
    "    if number < 0:\n",
    "        raise InvalidInputError(number)\n",
    "    return number ** 0.5\n",
    "\n",
    "try:\n",
    "    user_input = float(input(\"Enter a number to calculate its square root: \"))\n",
    "    result = calculate_square_root(user_input)\n",
    "except InvalidInputError as e:\n",
    "    print(\"Error:\", e)\n",
    "else:\n",
    "    print(f\"The square root of {user_input} is: {result:.2f}\")\n"
   ]
  },
  {
   "cell_type": "markdown",
   "id": "9a70684b",
   "metadata": {},
   "source": [
    "## 4. What are some common exceptions that are built-in to Python?"
   ]
  },
  {
   "cell_type": "code",
   "execution_count": null,
   "id": "ac25d167",
   "metadata": {},
   "outputs": [],
   "source": [
    "there are many exceptions that are built in to python, this are\n",
    "typeerror\n",
    "syntaxerror\n",
    "nameerror\n",
    "keyerror\n",
    "filenotfounderror\n",
    "indentationerror\n",
    "assertionerror\n",
    "runtimeerror"
   ]
  },
  {
   "cell_type": "markdown",
   "id": "5cad889f",
   "metadata": {},
   "source": [
    "## 5. What is logging in Python, and why is it important in software development?"
   ]
  },
  {
   "cell_type": "code",
   "execution_count": null,
   "id": "b28c5369",
   "metadata": {},
   "outputs": [],
   "source": [
    "Logging in Python refers to the process of recording information, messages, warnings, and errors that occur during the \n",
    "execution of a program. It involves using the built-in logging module to create log records that provide insights into what \n",
    "a program is doing and how it's behaving. The logs can be directed to various outputs, such as the console, files, or external\n",
    "logging services, depending on the configuration."
   ]
  },
  {
   "cell_type": "markdown",
   "id": "58ed65ac",
   "metadata": {},
   "source": [
    "## 6. Explain the purpose of log levels in Python logging and provide examples of when each log level would be appropriate."
   ]
  },
  {
   "cell_type": "code",
   "execution_count": null,
   "id": "c555dd59",
   "metadata": {},
   "outputs": [],
   "source": [
    "Log levels in Python logging define the severity or importance of a log message. They help developers and system administrators \n",
    "categorize and filter log messages based on their significance. Python's logging module provides several standard log levels, \n",
    "each serving a specific purpose. "
   ]
  },
  {
   "cell_type": "code",
   "execution_count": 9,
   "id": "c6e80460",
   "metadata": {},
   "outputs": [],
   "source": [
    "import logging\n",
    "\n",
    "logging.debug(\"This is a debug message.\")\n",
    "logging.warning(\"Disk space is getting low.\")\n",
    "logging.info(\"Application started.\")\n",
    "logging.error(\"An error occurred while processing the data.\")\n",
    "logging.critical(\"System is shutting down due to a critical error.\")"
   ]
  },
  {
   "cell_type": "markdown",
   "id": "c481160a",
   "metadata": {},
   "source": [
    "## 7. What are log formatters in Python logging, and how can you customise the log message format using formatters?"
   ]
  },
  {
   "cell_type": "code",
   "execution_count": null,
   "id": "f5602970",
   "metadata": {},
   "outputs": [],
   "source": [
    "Log formatters in Python logging are used to define the structure and content of log messages. They control how log records are\n",
    "formatted before being output to the desired logging destination, such as the console or log files. Formatters allow you to \n",
    "customize the appearance of log messages, including timestamps, log levels, messages, and additional contextual information."
   ]
  },
  {
   "cell_type": "code",
   "execution_count": 12,
   "id": "3d545bfc",
   "metadata": {},
   "outputs": [
    {
     "name": "stderr",
     "output_type": "stream",
     "text": [
      "2023-08-17 19:50:37,859 - DEBUG - This is a debug message.\n",
      "2023-08-17 19:50:37,859 - DEBUG - This is a debug message.\n",
      "DEBUG:my_logger:This is a debug message.\n",
      "2023-08-17 19:50:37,863 - INFO - This is an info message.\n",
      "2023-08-17 19:50:37,863 - INFO - This is an info message.\n",
      "INFO:my_logger:This is an info message.\n",
      "2023-08-17 19:50:37,866 - WARNING - This is a warning message.\n",
      "2023-08-17 19:50:37,866 - WARNING - This is a warning message.\n",
      "WARNING:my_logger:This is a warning message.\n"
     ]
    }
   ],
   "source": [
    "import logging\n",
    "logger = logging.getLogger(\"my_logger\")\n",
    "logger.setLevel(logging.DEBUG)\n",
    "formatter = logging.Formatter('%(asctime)s - %(levelname)s - %(message)s')\n",
    "console_handler = logging.StreamHandler()\n",
    "console_handler.setFormatter(formatter)\n",
    "logger.addHandler(console_handler)\n",
    "logger.debug(\"This is a debug message.\")\n",
    "logger.info(\"This is an info message.\")\n",
    "logger.warning(\"This is a warning message.\")\n"
   ]
  },
  {
   "cell_type": "markdown",
   "id": "fde17bde",
   "metadata": {},
   "source": [
    "## 8. How can you set up logging to capture log messages from multiple modules or classes in a Python application?"
   ]
  },
  {
   "cell_type": "code",
   "execution_count": null,
   "id": "e486dbf9",
   "metadata": {},
   "outputs": [],
   "source": [
    "Setting up logging to capture log messages from multiple modules or classes in a Python application involves creating a \n",
    "shared logging configuration and using the same logger across different modules or classes. This ensures that all log messages \n",
    "from various parts of the application are captured and routed to the desired logging destinations with consistent settings."
   ]
  },
  {
   "cell_type": "markdown",
   "id": "f8bab0b2",
   "metadata": {},
   "source": [
    "## 9. What is the difference between the logging and print statements in Python? When should you use logging over print statements in a real-world application?"
   ]
  },
  {
   "cell_type": "code",
   "execution_count": null,
   "id": "9e9ca5b6",
   "metadata": {},
   "outputs": [],
   "source": [
    "Logging:\n",
    "    1) Logging is a more powerful and flexible way to manage output, especially in larger and more complex applications.\n",
    "\t2) It provides different log levels (DEBUG, INFO, WARNING, ERROR, CRITICAL) to categorize the severity of messages.\n",
    "\t3) Logging allows you to direct messages to various destinations like the console, files, or external logging services.\n",
    "\t4) It allows you to format log messages with timestamps, module names, and more context.\n",
    "\t5)Log messages can be disabled or enabled selectively based on log levels, making it easier to control the amount of output."
   ]
  },
  {
   "cell_type": "code",
   "execution_count": null,
   "id": "4cde0952",
   "metadata": {},
   "outputs": [],
   "source": [
    "print: \n",
    "    1) Print statements are simpler and easy to use for basic output during development and debugging.\n",
    "\t2) They output directly to the console, making them suitable for quickly checking variable values and flow of control.\n",
    "\t3) Print statements are often used for temporary debugging purposes and are not well-suited for long-term logging.\n",
    "\t4) They don't provide different levels of output, making it harder to differentiate between different types of messages."
   ]
  },
  {
   "cell_type": "markdown",
   "id": "6896e48d",
   "metadata": {},
   "source": [
    "## 10. Write a Python program that logs a message to a file named \"app.log\" with the following requirements: \n",
    "## ● The log message should be \"Hello, World!\"\n",
    "## ● The log level should be set to \"INFO.\"\n",
    "## ● The log file should append new log entries without overwriting previous ones."
   ]
  },
  {
   "cell_type": "code",
   "execution_count": 14,
   "id": "56145c3b",
   "metadata": {},
   "outputs": [],
   "source": [
    "import logging\n",
    "logging.basicConfig(filename='app.log', level=logging.INFO, format='%(asctime)s - %(levelname)s - %(message)s')\n",
    "logging.info(\"Hello, World!\")\n"
   ]
  },
  {
   "cell_type": "markdown",
   "id": "436e964d",
   "metadata": {},
   "source": [
    "## 11. Create a Python program that logs an error message to the console and a file named \"errors.log\" if an exception occurs during the program's execution. The error message should include the exception type and a timestamp."
   ]
  },
  {
   "cell_type": "code",
   "execution_count": 15,
   "id": "d077c521",
   "metadata": {},
   "outputs": [
    {
     "name": "stderr",
     "output_type": "stream",
     "text": [
      "ERROR:root:Exception occurred: ZeroDivisionError\n",
      "2023-08-17 19:56:50,484 - ERROR - Exception occurred: ZeroDivisionError\n"
     ]
    }
   ],
   "source": [
    "import logging\n",
    "console_handler = logging.StreamHandler()\n",
    "console_formatter = logging.Formatter('%(asctime)s - %(levelname)s - %(message)s')\n",
    "console_handler.setFormatter(console_formatter)\n",
    "logging.getLogger().addHandler(console_handler)\n",
    "logging.getLogger().setLevel(logging.INFO)\n",
    "file_handler = logging.FileHandler('errors.log', mode='a')\n",
    "file_formatter = logging.Formatter('%(asctime)s - %(levelname)s - %(message)s')\n",
    "file_handler.setFormatter(file_formatter)\n",
    "logging.getLogger().addHandler(file_handler)\n",
    "\n",
    "def main():\n",
    "    try:\n",
    "        result = 10 / 0\n",
    "    except Exception as e:\n",
    "        logging.error(f\"Exception occurred: {type(e).__name__}\")\n",
    "\n",
    "if __name__ == \"__main__\":\n",
    "    main()\n"
   ]
  },
  {
   "cell_type": "code",
   "execution_count": null,
   "id": "b8393ec9",
   "metadata": {},
   "outputs": [],
   "source": []
  },
  {
   "cell_type": "code",
   "execution_count": null,
   "id": "f180a44f",
   "metadata": {},
   "outputs": [],
   "source": []
  },
  {
   "cell_type": "code",
   "execution_count": null,
   "id": "1ddae300",
   "metadata": {},
   "outputs": [],
   "source": []
  },
  {
   "cell_type": "code",
   "execution_count": null,
   "id": "cf78a2da",
   "metadata": {},
   "outputs": [],
   "source": []
  }
 ],
 "metadata": {
  "kernelspec": {
   "display_name": "Python 3 (ipykernel)",
   "language": "python",
   "name": "python3"
  },
  "language_info": {
   "codemirror_mode": {
    "name": "ipython",
    "version": 3
   },
   "file_extension": ".py",
   "mimetype": "text/x-python",
   "name": "python",
   "nbconvert_exporter": "python",
   "pygments_lexer": "ipython3",
   "version": "3.9.13"
  }
 },
 "nbformat": 4,
 "nbformat_minor": 5
}
