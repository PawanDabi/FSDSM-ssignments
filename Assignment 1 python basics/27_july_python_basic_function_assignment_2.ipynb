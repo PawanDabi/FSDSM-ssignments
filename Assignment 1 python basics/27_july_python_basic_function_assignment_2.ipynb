{
 "cells": [
  {
   "cell_type": "markdown",
   "id": "def13fca",
   "metadata": {},
   "source": [
    "## 1. What is a lambda function in Python, and how does it differ from a regular function?"
   ]
  },
  {
   "cell_type": "code",
   "execution_count": null,
   "id": "e636bd7d",
   "metadata": {},
   "outputs": [],
   "source": [
    "a lambda function is a small anonymous function that can have any number of arguments but can only have one expression. \n",
    "It is also known as a \"lambda expression\". we use the lambda keyword for creating the lambda function\n",
    "\n",
    "lambda arguments: expression\n",
    "\n",
    "\n",
    "Lambda functions are written as a single expression and are more concise compared to regular functions,which use the def keyword\n",
    "and a block of indented code for the function body.\n",
    "Lambda functions are anonymous; they don't have a name. They are defined and used inline at the point where they are needed.\n",
    "As lambda functions are restricted to a single expression, they can't include multiple statements or complex logic like regular \n",
    "functions can. Regular functions can have multiple lines of code and include various statements and even other functions \n",
    "if necessary."
   ]
  },
  {
   "cell_type": "markdown",
   "id": "b3af8ac5",
   "metadata": {},
   "source": [
    "## 2. Can a lambda function in Python have multiple arguments? If yes, how can you define and use them?"
   ]
  },
  {
   "cell_type": "code",
   "execution_count": null,
   "id": "e9d31f7d",
   "metadata": {},
   "outputs": [],
   "source": [
    "Yes, a lambda function in Python can have multiple arguments. Lambda functions can take any number of arguments, but they must \n",
    "be specified within the lambda expression.\n",
    "example:\n"
   ]
  },
  {
   "cell_type": "code",
   "execution_count": 2,
   "id": "3b029612",
   "metadata": {},
   "outputs": [],
   "source": [
    "multi = lambda x,y:x*y"
   ]
  },
  {
   "cell_type": "code",
   "execution_count": 3,
   "id": "ca4cd1ca",
   "metadata": {},
   "outputs": [
    {
     "data": {
      "text/plain": [
       "12"
      ]
     },
     "execution_count": 3,
     "metadata": {},
     "output_type": "execute_result"
    }
   ],
   "source": [
    "multi(3,4)"
   ]
  },
  {
   "cell_type": "markdown",
   "id": "597f59b8",
   "metadata": {},
   "source": [
    "## 3. How are lambda functions typically used in Python? Provide an example use case."
   ]
  },
  {
   "cell_type": "code",
   "execution_count": null,
   "id": "0ce3ce64",
   "metadata": {},
   "outputs": [],
   "source": [
    "Lambda functions are typically used in Python for small, short-lived tasks where a simple function is needed\n",
    "\n",
    "example"
   ]
  },
  {
   "cell_type": "code",
   "execution_count": 4,
   "id": "a10d4b8b",
   "metadata": {},
   "outputs": [
    {
     "name": "stdout",
     "output_type": "stream",
     "text": [
      "[('Charlie', 22), ('Alice', 25), ('David', 28), ('Bob', 30)]\n"
     ]
    }
   ],
   "source": [
    "people = [('Alice', 25), ('Bob', 30), ('Charlie', 22), ('David', 28)]\n",
    "sorted_people = sorted(people, key=lambda x: x[1])\n",
    "print(sorted_people)"
   ]
  },
  {
   "cell_type": "markdown",
   "id": "f5a94aed",
   "metadata": {},
   "source": [
    "## 4. What are the advantages and limitations of lambda functions compared to regular functions in Python?"
   ]
  },
  {
   "cell_type": "code",
   "execution_count": null,
   "id": "4dc0ded6",
   "metadata": {},
   "outputs": [],
   "source": [
    "Advantages of lambda function in python:->\n",
    "\n",
    "1) Lambda functions are much more concise than regular functions. They can be defined in a single line, making the code more \n",
    "compact and easier to read, especially for simple tasks.\n",
    "2)Since lambda functions are anonymous, they don't require a name. This is useful when you need to create a function for a \n",
    "short-term or one-time use, avoiding the need to come up with a descriptive name.\n",
    "3) Lambda functions support the functional programming paradigm by enabling you to define functions on the fly and use them as \n",
    "first-class objects.\n",
    "4) For simple operations, lambda functions can improve the readability of code by keeping the logic directly inline with the \n",
    "function call."
   ]
  },
  {
   "cell_type": "markdown",
   "id": "d2d37e1a",
   "metadata": {},
   "source": [
    "## 5. Are lambda functions in Python able to access variables defined outside of their own scope? Explain with an example."
   ]
  },
  {
   "cell_type": "code",
   "execution_count": null,
   "id": "150c9858",
   "metadata": {},
   "outputs": [],
   "source": [
    "Yes, lambda functions in Python can access variables defined outside of their own scope. Lambda functions have access to \n",
    "variables in the enclosing scope, just like regular functions do."
   ]
  },
  {
   "cell_type": "code",
   "execution_count": null,
   "id": "6492affe",
   "metadata": {},
   "outputs": [],
   "source": [
    "example: "
   ]
  },
  {
   "cell_type": "code",
   "execution_count": 5,
   "id": "14142a0c",
   "metadata": {},
   "outputs": [
    {
     "name": "stdout",
     "output_type": "stream",
     "text": [
      "30\n"
     ]
    }
   ],
   "source": [
    "def outer_function(x):\n",
    "    y = 10\n",
    "    lambda_function = lambda z: x + y + z\n",
    "    return lambda_function\n",
    "my_lambda = outer_function(5)\n",
    "result = my_lambda(15)\n",
    "print(result) \n"
   ]
  },
  {
   "cell_type": "markdown",
   "id": "e7368f25",
   "metadata": {},
   "source": [
    "## 6. Write a lambda function to calculate the square of a given number."
   ]
  },
  {
   "cell_type": "code",
   "execution_count": 6,
   "id": "e62040e3",
   "metadata": {},
   "outputs": [],
   "source": [
    "square_number = lambda x:x**2"
   ]
  },
  {
   "cell_type": "code",
   "execution_count": 7,
   "id": "39a952b9",
   "metadata": {},
   "outputs": [
    {
     "data": {
      "text/plain": [
       "9"
      ]
     },
     "execution_count": 7,
     "metadata": {},
     "output_type": "execute_result"
    }
   ],
   "source": [
    "square_number(3)"
   ]
  },
  {
   "cell_type": "markdown",
   "id": "4491c5b1",
   "metadata": {},
   "source": [
    "## 7. Create a lambda function to find the maximum value in a list of integers."
   ]
  },
  {
   "cell_type": "code",
   "execution_count": 8,
   "id": "88dcaadc",
   "metadata": {},
   "outputs": [],
   "source": [
    "max_list = lambda li:max(li)"
   ]
  },
  {
   "cell_type": "code",
   "execution_count": 9,
   "id": "81182299",
   "metadata": {},
   "outputs": [
    {
     "data": {
      "text/plain": [
       "452"
      ]
     },
     "execution_count": 9,
     "metadata": {},
     "output_type": "execute_result"
    }
   ],
   "source": [
    "max_list([10,23,452,62,45,57,424])"
   ]
  },
  {
   "cell_type": "markdown",
   "id": "150139c6",
   "metadata": {},
   "source": [
    "## 8. Implement a lambda function to filter out all the even numbers from a list of integers."
   ]
  },
  {
   "cell_type": "code",
   "execution_count": 12,
   "id": "232f5a1e",
   "metadata": {},
   "outputs": [],
   "source": [
    "filter_list = lambda lst: list(filter(lambda x:x%2==0, lst))"
   ]
  },
  {
   "cell_type": "code",
   "execution_count": 13,
   "id": "3c7fef1f",
   "metadata": {},
   "outputs": [
    {
     "data": {
      "text/plain": [
       "[44, 66, 88, 98, 76]"
      ]
     },
     "execution_count": 13,
     "metadata": {},
     "output_type": "execute_result"
    }
   ],
   "source": [
    "filter_list([23,33,44,66,88,98,76,55,49])"
   ]
  },
  {
   "cell_type": "markdown",
   "id": "b531a968",
   "metadata": {},
   "source": [
    "## 9. Write a lambda function to sort a list of strings in ascending order based on the length of each string."
   ]
  },
  {
   "cell_type": "code",
   "execution_count": 16,
   "id": "5cd6c783",
   "metadata": {},
   "outputs": [],
   "source": [
    "sort_string = lambda str_lst: sorted(str_lst, key=lambda x:len(x))"
   ]
  },
  {
   "cell_type": "code",
   "execution_count": 17,
   "id": "4b628732",
   "metadata": {},
   "outputs": [
    {
     "data": {
      "text/plain": [
       "['dabi', 'pawan', 'ineuron', 'datascience']"
      ]
     },
     "execution_count": 17,
     "metadata": {},
     "output_type": "execute_result"
    }
   ],
   "source": [
    "sort_string([\"pawan\",\"dabi\", \"ineuron\",\"datascience\"])"
   ]
  },
  {
   "cell_type": "markdown",
   "id": "74bde702",
   "metadata": {},
   "source": [
    "## 10. Create a lambda function that takes two lists as input and returns a new list containing the common elements between the two lists."
   ]
  },
  {
   "cell_type": "code",
   "execution_count": 18,
   "id": "8952e619",
   "metadata": {},
   "outputs": [],
   "source": [
    "common_lst = lambda list_1, list_2: list(filter(lambda s: s in list_1, list_2))"
   ]
  },
  {
   "cell_type": "code",
   "execution_count": 19,
   "id": "f51e929d",
   "metadata": {},
   "outputs": [
    {
     "data": {
      "text/plain": [
       "[1, 2, 4, 8]"
      ]
     },
     "execution_count": 19,
     "metadata": {},
     "output_type": "execute_result"
    }
   ],
   "source": [
    "list1=[1,2,33,4,56,6,7,8]\n",
    "list2=[1,2,34,4,23432,234234,8,342]\n",
    "common_lst(list1,list2)"
   ]
  },
  {
   "cell_type": "markdown",
   "id": "6c46bf14",
   "metadata": {},
   "source": [
    "## 11. Write a recursive function to calculate the factorial of a given positive integer."
   ]
  },
  {
   "cell_type": "code",
   "execution_count": 21,
   "id": "50e40e2d",
   "metadata": {},
   "outputs": [],
   "source": [
    "def factorial(n):\n",
    "    if n == 0 or n == 1:\n",
    "        return 1\n",
    "    else:\n",
    "        return n * factorial(n - 1)\n"
   ]
  },
  {
   "cell_type": "code",
   "execution_count": 22,
   "id": "ef4e48ad",
   "metadata": {},
   "outputs": [
    {
     "data": {
      "text/plain": [
       "120"
      ]
     },
     "execution_count": 22,
     "metadata": {},
     "output_type": "execute_result"
    }
   ],
   "source": [
    "factorial(5)"
   ]
  },
  {
   "cell_type": "markdown",
   "id": "7e0f3132",
   "metadata": {},
   "source": [
    "## 12. Implement a recursive function to compute the nth Fibonacci number."
   ]
  },
  {
   "cell_type": "code",
   "execution_count": 23,
   "id": "15adf0e2",
   "metadata": {},
   "outputs": [],
   "source": [
    "def fibonacci(n):\n",
    "    if n <= 0:\n",
    "        return None\n",
    "    elif n == 1:\n",
    "        return 0\n",
    "    elif n == 2:\n",
    "        return 1\n",
    "    else:\n",
    "        return fibonacci(n - 1) + fibonacci(n - 2)\n"
   ]
  },
  {
   "cell_type": "code",
   "execution_count": 24,
   "id": "134121ce",
   "metadata": {},
   "outputs": [
    {
     "data": {
      "text/plain": [
       "34"
      ]
     },
     "execution_count": 24,
     "metadata": {},
     "output_type": "execute_result"
    }
   ],
   "source": [
    "fibonacci(10)"
   ]
  },
  {
   "cell_type": "markdown",
   "id": "a91e076c",
   "metadata": {},
   "source": [
    "## 13. Create a recursive function to find the sum of all the elements in a given list."
   ]
  },
  {
   "cell_type": "code",
   "execution_count": 25,
   "id": "c5ef27fb",
   "metadata": {},
   "outputs": [],
   "source": [
    "def sum_list_elements(lst):\n",
    "    if not lst:\n",
    "        return 0\n",
    "    else:\n",
    "        return lst[0] + sum_list_elements(lst[1:])\n"
   ]
  },
  {
   "cell_type": "code",
   "execution_count": 27,
   "id": "a92bb628",
   "metadata": {},
   "outputs": [
    {
     "data": {
      "text/plain": [
       "356"
      ]
     },
     "execution_count": 27,
     "metadata": {},
     "output_type": "execute_result"
    }
   ],
   "source": [
    "sum_list_elements([1,2,343,5,5])"
   ]
  },
  {
   "cell_type": "markdown",
   "id": "a1a44a0d",
   "metadata": {},
   "source": [
    "## 14. Write a recursive function to determine whether a given string is a palindrome"
   ]
  },
  {
   "cell_type": "code",
   "execution_count": 28,
   "id": "190552a4",
   "metadata": {},
   "outputs": [],
   "source": [
    "def is_palindrome(s):\n",
    "    if len(s) <= 1:\n",
    "        return True\n",
    "    if s[0] == s[-1]:\n",
    "        return is_palindrome(s[1:-1])\n",
    "    else:\n",
    "        return False\n"
   ]
  },
  {
   "cell_type": "code",
   "execution_count": 29,
   "id": "15580b86",
   "metadata": {},
   "outputs": [
    {
     "data": {
      "text/plain": [
       "True"
      ]
     },
     "execution_count": 29,
     "metadata": {},
     "output_type": "execute_result"
    }
   ],
   "source": [
    "is_palindrome(\"nitin\")"
   ]
  },
  {
   "cell_type": "markdown",
   "id": "13dfb938",
   "metadata": {},
   "source": [
    "## 15. Implement a recursive function to find the greatest common divisor (GCD) of two positive integers."
   ]
  },
  {
   "cell_type": "code",
   "execution_count": 30,
   "id": "3b475ff0",
   "metadata": {},
   "outputs": [],
   "source": [
    "def gcd(a, b):\n",
    "    if b == 0:\n",
    "        return a\n",
    "    else:\n",
    "        return gcd(b, a % b)\n"
   ]
  },
  {
   "cell_type": "code",
   "execution_count": 31,
   "id": "25f1dc2a",
   "metadata": {},
   "outputs": [
    {
     "data": {
      "text/plain": [
       "1"
      ]
     },
     "execution_count": 31,
     "metadata": {},
     "output_type": "execute_result"
    }
   ],
   "source": [
    "gcd(2,3)"
   ]
  },
  {
   "cell_type": "code",
   "execution_count": 33,
   "id": "6e9e8f62",
   "metadata": {},
   "outputs": [
    {
     "data": {
      "text/plain": [
       "100"
      ]
     },
     "execution_count": 33,
     "metadata": {},
     "output_type": "execute_result"
    }
   ],
   "source": [
    "gcd(100,300)"
   ]
  },
  {
   "cell_type": "code",
   "execution_count": null,
   "id": "f6fbd50a",
   "metadata": {},
   "outputs": [],
   "source": []
  }
 ],
 "metadata": {
  "kernelspec": {
   "display_name": "Python 3 (ipykernel)",
   "language": "python",
   "name": "python3"
  },
  "language_info": {
   "codemirror_mode": {
    "name": "ipython",
    "version": 3
   },
   "file_extension": ".py",
   "mimetype": "text/x-python",
   "name": "python",
   "nbconvert_exporter": "python",
   "pygments_lexer": "ipython3",
   "version": "3.9.13"
  }
 },
 "nbformat": 4,
 "nbformat_minor": 5
}
