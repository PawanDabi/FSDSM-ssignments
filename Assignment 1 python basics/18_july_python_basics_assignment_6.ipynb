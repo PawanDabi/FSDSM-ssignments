{
 "cells": [
  {
   "cell_type": "markdown",
   "id": "71e40efd",
   "metadata": {},
   "source": [
    "## Q.1. What are keywords in python? Using the keyword library, print all the python keywords."
   ]
  },
  {
   "cell_type": "code",
   "execution_count": null,
   "id": "460f8487",
   "metadata": {},
   "outputs": [],
   "source": [
    "Keywords in Python are reserved words that have special meanings and serve as fundamental building blocks of the language's \n",
    "syntax. These keywords have specific purposes and cannot be used as identifiers (variable names, function names, etc.) in Python."
   ]
  },
  {
   "cell_type": "code",
   "execution_count": 1,
   "id": "d56a816b",
   "metadata": {},
   "outputs": [
    {
     "name": "stdout",
     "output_type": "stream",
     "text": [
      "['False', 'None', 'True', '__peg_parser__', 'and', 'as', 'assert', 'async', 'await', 'break', 'class', 'continue', 'def', 'del', 'elif', 'else', 'except', 'finally', 'for', 'from', 'global', 'if', 'import', 'in', 'is', 'lambda', 'nonlocal', 'not', 'or', 'pass', 'raise', 'return', 'try', 'while', 'with', 'yield']\n"
     ]
    }
   ],
   "source": [
    "import keyword\n",
    "\n",
    "all_keywords = keyword.kwlist\n",
    "print(all_keywords)\n",
    "\n",
    "\n"
   ]
  },
  {
   "cell_type": "markdown",
   "id": "5eba32e7",
   "metadata": {},
   "source": [
    "## Q.2. What are the rules to create variables in python?"
   ]
  },
  {
   "cell_type": "code",
   "execution_count": null,
   "id": "31731de4",
   "metadata": {},
   "outputs": [],
   "source": [
    "the rules to create the variable in python are:\n",
    "    vairable name can contain uppercase, lowercase, digits, uderscores\n",
    "    no such space should be there\n",
    "    no such special character should be there\n",
    "    we can not use the python keyword in variable"
   ]
  },
  {
   "cell_type": "markdown",
   "id": "04d544c7",
   "metadata": {},
   "source": [
    "## 3. What will happen if a keyword is used as a variable name?"
   ]
  },
  {
   "cell_type": "code",
   "execution_count": null,
   "id": "61bbd2a5",
   "metadata": {},
   "outputs": [],
   "source": [
    "if we will use keyword as a variable we will face an error. the error will be syntax error"
   ]
  },
  {
   "cell_type": "code",
   "execution_count": 2,
   "id": "cb83c59a",
   "metadata": {},
   "outputs": [
    {
     "ename": "SyntaxError",
     "evalue": "invalid syntax (2090906485.py, line 1)",
     "output_type": "error",
     "traceback": [
      "\u001b[1;36m  File \u001b[1;32m\"C:\\Users\\Dabi\\AppData\\Local\\Temp\\ipykernel_1440\\2090906485.py\"\u001b[1;36m, line \u001b[1;32m1\u001b[0m\n\u001b[1;33m    for=[1,2,3,4,5]\u001b[0m\n\u001b[1;37m       ^\u001b[0m\n\u001b[1;31mSyntaxError\u001b[0m\u001b[1;31m:\u001b[0m invalid syntax\n"
     ]
    }
   ],
   "source": [
    "for=[1,2,3,4,5]\n",
    "print(for)"
   ]
  },
  {
   "cell_type": "markdown",
   "id": "f1646beb",
   "metadata": {},
   "source": [
    "## 4. For what purpose def keyword is used?\n"
   ]
  },
  {
   "cell_type": "code",
   "execution_count": null,
   "id": "30a3a847",
   "metadata": {},
   "outputs": [],
   "source": [
    "the purpose of def keyword used in python is to create the function in our program"
   ]
  },
  {
   "cell_type": "markdown",
   "id": "14684720",
   "metadata": {},
   "source": [
    "## 5. What is the operation of this special character ‘\\’?"
   ]
  },
  {
   "cell_type": "code",
   "execution_count": null,
   "id": "f5b5061c",
   "metadata": {},
   "outputs": [],
   "source": [
    "the backslash character () is used as an escape character. It has a special meaning when used before certain \n",
    "characters, known as escape sequences. The backslash is used to represent characters that are difficult to input\n",
    "directly or have special meanings in strings and other literals.\n",
    "    \n",
    "    \n",
    "\\n: Represents a newline character.\n",
    "\\t: Represents a tab character.\n",
    "\\\": Represents a double quote character within a string.\n",
    "\\': Represents a single quote character within a string.\n",
    "\\\\: Represents a literal backslash character."
   ]
  },
  {
   "cell_type": "markdown",
   "id": "67363399",
   "metadata": {},
   "source": [
    "## 6. Give an example of the following conditions:\n",
    "## (i) Homogeneous list\n",
    "## (ii) Heterogeneous set\n",
    "## (iii) Homogeneous tuple"
   ]
  },
  {
   "cell_type": "code",
   "execution_count": null,
   "id": "3660088e",
   "metadata": {},
   "outputs": [],
   "source": [
    "(i) homogeneous list"
   ]
  },
  {
   "cell_type": "code",
   "execution_count": 3,
   "id": "9e89df99",
   "metadata": {},
   "outputs": [
    {
     "name": "stdout",
     "output_type": "stream",
     "text": [
      "[12, 232, 45, 56, 78, 90]\n"
     ]
    }
   ],
   "source": [
    "    num = [12,232,45,56,78,90]\n",
    "    print(num)"
   ]
  },
  {
   "cell_type": "code",
   "execution_count": null,
   "id": "5e7b8405",
   "metadata": {},
   "outputs": [],
   "source": [
    "(ii) heterogeneous set"
   ]
  },
  {
   "cell_type": "code",
   "execution_count": 6,
   "id": "20558549",
   "metadata": {},
   "outputs": [
    {
     "name": "stdout",
     "output_type": "stream",
     "text": [
      "{1, 3.145, 'pawan'}\n"
     ]
    }
   ],
   "source": [
    "heter_set = {1,'pawan',3.145,True}\n",
    "print(heter_set)"
   ]
  },
  {
   "cell_type": "code",
   "execution_count": null,
   "id": "efb61c03",
   "metadata": {},
   "outputs": [],
   "source": [
    "(iii) homogeneous tuple "
   ]
  },
  {
   "cell_type": "code",
   "execution_count": 7,
   "id": "83158776",
   "metadata": {},
   "outputs": [
    {
     "name": "stdout",
     "output_type": "stream",
     "text": [
      "('apple', 'banna', 'orange', 'lemon')\n"
     ]
    }
   ],
   "source": [
    "fruits = ('apple', 'banna', 'orange', 'lemon')\n",
    "print(fruits)"
   ]
  },
  {
   "cell_type": "markdown",
   "id": "176c9e87",
   "metadata": {},
   "source": [
    "## 7. Explain the mutable and immutable data types with proper explanation & examples."
   ]
  },
  {
   "cell_type": "code",
   "execution_count": null,
   "id": "df8332bb",
   "metadata": {},
   "outputs": [],
   "source": [
    "Mutable Data Types:\n",
    "Mutable data types are objects whose values can be modified after creation. This means you can change their \n",
    "internal state without creating a new object."
   ]
  },
  {
   "cell_type": "code",
   "execution_count": 9,
   "id": "ccc7d823",
   "metadata": {},
   "outputs": [
    {
     "name": "stdout",
     "output_type": "stream",
     "text": [
      "[1, 2, 3]\n",
      "[1, 2, 3, 4]\n",
      "[10, 2, 3, 4]\n"
     ]
    }
   ],
   "source": [
    "my_list = [1, 2, 3]\n",
    "print(my_list)  \n",
    "my_list.append(4)\n",
    "print(my_list) \n",
    "my_list[0] = 10\n",
    "print(my_list) "
   ]
  },
  {
   "cell_type": "code",
   "execution_count": null,
   "id": "1db25dfd",
   "metadata": {},
   "outputs": [],
   "source": [
    "Immutable Data Types:\n",
    "Immutable data types are objects whose values cannot be changed once they are created. \n",
    "If you want to modify the value, you need to create a new object."
   ]
  },
  {
   "cell_type": "code",
   "execution_count": 10,
   "id": "af7f42c8",
   "metadata": {},
   "outputs": [
    {
     "name": "stdout",
     "output_type": "stream",
     "text": [
      "Hello\n",
      "Hello World\n",
      "HELLO WORLD\n"
     ]
    }
   ],
   "source": [
    "my_string = 'Hello'\n",
    "print(my_string)  \n",
    "my_string = my_string + ' World'\n",
    "print(my_string)\n",
    "\n",
    "my_string = my_string.upper()\n",
    "print(my_string)"
   ]
  },
  {
   "cell_type": "markdown",
   "id": "50ca98e4",
   "metadata": {},
   "source": [
    "##  Write a code to create the given structure using only for loop.\n"
   ]
  },
  {
   "cell_type": "code",
   "execution_count": 11,
   "id": "633033b5",
   "metadata": {},
   "outputs": [
    {
     "name": "stdout",
     "output_type": "stream",
     "text": [
      "    *\n",
      "   ***\n",
      "  *****\n",
      " *******\n",
      "*********\n"
     ]
    }
   ],
   "source": [
    "num_rows = 5\n",
    "for i in range(num_rows):\n",
    "    for j in range(num_rows - i - 1):\n",
    "        print(\" \", end=\"\")\n",
    "    for k in range(2*i + 1):\n",
    "        print(\"*\", end=\"\")\n",
    "    print()"
   ]
  },
  {
   "cell_type": "markdown",
   "id": "ba69ce08",
   "metadata": {},
   "source": [
    "## Write a code to create the given structure using while loop."
   ]
  },
  {
   "cell_type": "code",
   "execution_count": 13,
   "id": "612d51fd",
   "metadata": {},
   "outputs": [
    {
     "name": "stdout",
     "output_type": "stream",
     "text": [
      "|||||\n",
      "||||\n",
      "|||\n",
      "||\n",
      "|\n"
     ]
    }
   ],
   "source": [
    "num_rows = 5\n",
    "i = 0\n",
    "\n",
    "while i < num_rows:\n",
    "    j = 0\n",
    "    while j < num_rows - i:\n",
    "        print(\"|\", end=\"\")\n",
    "        j += 1\n",
    "    print()\n",
    "    i += 1"
   ]
  },
  {
   "cell_type": "code",
   "execution_count": null,
   "id": "0717994c",
   "metadata": {},
   "outputs": [],
   "source": []
  },
  {
   "cell_type": "code",
   "execution_count": null,
   "id": "d6135ba4",
   "metadata": {},
   "outputs": [],
   "source": []
  },
  {
   "cell_type": "code",
   "execution_count": null,
   "id": "f24739fb",
   "metadata": {},
   "outputs": [],
   "source": []
  }
 ],
 "metadata": {
  "kernelspec": {
   "display_name": "Python 3 (ipykernel)",
   "language": "python",
   "name": "python3"
  },
  "language_info": {
   "codemirror_mode": {
    "name": "ipython",
    "version": 3
   },
   "file_extension": ".py",
   "mimetype": "text/x-python",
   "name": "python",
   "nbconvert_exporter": "python",
   "pygments_lexer": "ipython3",
   "version": "3.9.13"
  }
 },
 "nbformat": 4,
 "nbformat_minor": 5
}
