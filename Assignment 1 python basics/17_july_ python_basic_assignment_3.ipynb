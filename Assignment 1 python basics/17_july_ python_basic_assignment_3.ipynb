{
 "cells": [
  {
   "cell_type": "markdown",
   "id": "36ba5503",
   "metadata": {},
   "source": [
    "## 1. Why are functions advantageous to have in your programs?"
   ]
  },
  {
   "cell_type": "code",
   "execution_count": null,
   "id": "8084644f",
   "metadata": {},
   "outputs": [],
   "source": [
    "the function in program play a important role in code reuselibility, in simple term the function helps to write in a code block \n",
    "where we can write the function n no times in our program. it saves the time to writing the code.\n"
   ]
  },
  {
   "cell_type": "markdown",
   "id": "a5f862b5",
   "metadata": {},
   "source": [
    "## 2. When does the code in a function run: when it&#39;s specified or when it&#39;s called?"
   ]
  },
  {
   "cell_type": "code",
   "execution_count": null,
   "id": "d38ae528",
   "metadata": {},
   "outputs": [],
   "source": [
    "the code within the function runs when the function is called. the function is block of code that executed when it is called.\n",
    "it is specified while writing the function in our program.\n",
    "it is called when the function needs in the programm. the code within a function runs when the function is called, not when it is specified or defined."
   ]
  },
  {
   "cell_type": "markdown",
   "id": "ae9243a4",
   "metadata": {},
   "source": [
    "## 3. What statement creates a function?"
   ]
  },
  {
   "cell_type": "code",
   "execution_count": null,
   "id": "0e1010ef",
   "metadata": {},
   "outputs": [],
   "source": [
    "the def statement is used to create a function. The def keyword is followed by the function name, \n",
    "a set of parentheses that may contain parameters (input values), and a colon. The code block associated with the\n",
    "function is indented below the def statement.\n",
    "\n",
    "example: \n",
    "    def greet():\n",
    "        print(\"hello iNeuron\")\n",
    "        \n",
    "greet()"
   ]
  },
  {
   "cell_type": "markdown",
   "id": "dc791c36",
   "metadata": {},
   "source": [
    "## 4. What is the difference between a function and a function call?"
   ]
  },
  {
   "cell_type": "code",
   "execution_count": null,
   "id": "53c117f6",
   "metadata": {},
   "outputs": [],
   "source": [
    "the difference between function and a function call is, the function wirte the a block of code that is to be executed\n",
    "we write a peice of code inside the function.\n",
    "and the function call is when the function is written, then it is called outside the function. sometime it the function\n",
    "calls needs the arguments when the function has some arguments\n"
   ]
  },
  {
   "cell_type": "markdown",
   "id": "74757603",
   "metadata": {},
   "source": [
    "## 5. How many global scopes are there in a Python program? How many local scopes?"
   ]
  },
  {
   "cell_type": "code",
   "execution_count": null,
   "id": "606255cf",
   "metadata": {},
   "outputs": [],
   "source": [
    "In a Python program, there is only one global scope, which is accessible throughout the entire program. \n",
    "The global scope is the outermost scope and is where variables, functions, and classes defined at the top level of a \n",
    "module reside.\n",
    "\n",
    "On the other hand, local scopes are created whenever a function is called. Each function call creates a new local scope \n",
    "that is separate from the global scope. These local scopes are temporary and exist only during the execution of the function. \n",
    "Variables defined within a function are local to that function and are not accessible outside of it."
   ]
  },
  {
   "cell_type": "markdown",
   "id": "f1092d2f",
   "metadata": {},
   "source": [
    "## 6. What happens to variables in a local scope when the function call returns?"
   ]
  },
  {
   "cell_type": "code",
   "execution_count": null,
   "id": "0f1689c3",
   "metadata": {},
   "outputs": [],
   "source": [
    "When a function call returns, the local scope associated with that function is destroyed, and the variables defined \n",
    "within that scope cease to exist. The memory allocated to store those variables is released, and the program no longer\n",
    "has access to those variables.\n",
    "\n",
    "example:\n",
    "    def function_x():\n",
    "        x=10\n",
    "        print(x)\n",
    "        \n",
    "function_x()\n",
    "print(x)"
   ]
  },
  {
   "cell_type": "markdown",
   "id": "05ef8e57",
   "metadata": {},
   "source": [
    "## 7. What is the concept of a return value? Is it possible to have a return value in an expression?"
   ]
  },
  {
   "cell_type": "code",
   "execution_count": null,
   "id": "d5918349",
   "metadata": {},
   "outputs": [],
   "source": [
    "The concept of a return value in programming refers to the value that a function provides as output when it is called.\n",
    "When a function is executed, it can perform calculations, manipulate data, or process input parameters, \n",
    "and it can optionally return a value or result back to the caller.\n",
    "a return value cannot be directly used in an expression. The return statement is used specifically to send a value \n",
    "back to the caller of the function."
   ]
  },
  {
   "cell_type": "markdown",
   "id": "4f450912",
   "metadata": {},
   "source": [
    "## 8. If a function does not have a return statement, what is the return value of a call to that function?"
   ]
  },
  {
   "cell_type": "code",
   "execution_count": null,
   "id": "9de40010",
   "metadata": {},
   "outputs": [],
   "source": [
    "if the function does not have a return statement, the return value of a call of that function will be NONE. the \"none\" is the \n",
    "special object that represe the absence of the value"
   ]
  },
  {
   "cell_type": "markdown",
   "id": "ea44585c",
   "metadata": {},
   "source": [
    "## 9. How do you make a function variable refer to the global variable?"
   ]
  },
  {
   "cell_type": "code",
   "execution_count": null,
   "id": "2a1b9994",
   "metadata": {},
   "outputs": [],
   "source": [
    "to make a function variable refer to the global vairable, we will use the 'global' keyword outside the function\n",
    "example "
   ]
  },
  {
   "cell_type": "code",
   "execution_count": 4,
   "id": "f1402585",
   "metadata": {},
   "outputs": [
    {
     "name": "stdout",
     "output_type": "stream",
     "text": [
      "Before function call: 10\n",
      "After function call: 20\n"
     ]
    }
   ],
   "source": [
    "x = 10 \n",
    "def global_variable():\n",
    "    global x  \n",
    "    x = 20\n",
    "    \n",
    "print(\"Before function call:\", x) \n",
    "global_variable()\n",
    "print(\"After function call:\", x) "
   ]
  },
  {
   "cell_type": "markdown",
   "id": "6f754a25",
   "metadata": {},
   "source": [
    "## 10. What is the data type of None?"
   ]
  },
  {
   "cell_type": "code",
   "execution_count": null,
   "id": "a8036a00",
   "metadata": {},
   "outputs": [],
   "source": [
    "the data type of 'None ' is NoneType"
   ]
  },
  {
   "cell_type": "code",
   "execution_count": 6,
   "id": "a11a672a",
   "metadata": {},
   "outputs": [
    {
     "name": "stdout",
     "output_type": "stream",
     "text": [
      "<class 'NoneType'>\n"
     ]
    }
   ],
   "source": [
    "a =  None\n",
    "print(type(a))"
   ]
  },
  {
   "cell_type": "markdown",
   "id": "0c3b4601",
   "metadata": {},
   "source": [
    "## 11. What does the sentence import areallyourpetsnamederic do?"
   ]
  },
  {
   "cell_type": "code",
   "execution_count": 7,
   "id": "fdac94a7",
   "metadata": {},
   "outputs": [
    {
     "ename": "ModuleNotFoundError",
     "evalue": "No module named 'areallyourpetsnamederic'",
     "output_type": "error",
     "traceback": [
      "\u001b[1;31m---------------------------------------------------------------------------\u001b[0m",
      "\u001b[1;31mModuleNotFoundError\u001b[0m                       Traceback (most recent call last)",
      "\u001b[1;32m~\\AppData\\Local\\Temp\\ipykernel_8780\\51184242.py\u001b[0m in \u001b[0;36m<module>\u001b[1;34m\u001b[0m\n\u001b[1;32m----> 1\u001b[1;33m \u001b[1;32mimport\u001b[0m \u001b[0mareallyourpetsnamederic\u001b[0m\u001b[1;33m\u001b[0m\u001b[1;33m\u001b[0m\u001b[0m\n\u001b[0m",
      "\u001b[1;31mModuleNotFoundError\u001b[0m: No module named 'areallyourpetsnamederic'"
     ]
    }
   ],
   "source": [
    "import areallyourpetsnamederic"
   ]
  },
  {
   "cell_type": "markdown",
   "id": "4e3718bd",
   "metadata": {},
   "source": [
    "## 12. If you had a bacon() feature in a spam module, what would you call it after importing spam?"
   ]
  },
  {
   "cell_type": "code",
   "execution_count": null,
   "id": "b649ea6c",
   "metadata": {},
   "outputs": [],
   "source": [
    "import spam\n",
    "\n",
    "spam.bacon()"
   ]
  },
  {
   "cell_type": "markdown",
   "id": "8a66739c",
   "metadata": {},
   "source": [
    "## 13. What can you do to save a programme from crashing if it encounters an error?"
   ]
  },
  {
   "cell_type": "code",
   "execution_count": null,
   "id": "93e64958",
   "metadata": {},
   "outputs": [],
   "source": [
    "for saving a programme from crashing if it encounters an error, we will use error handling techniques. like try except"
   ]
  },
  {
   "cell_type": "markdown",
   "id": "7ae3bc20",
   "metadata": {},
   "source": [
    "## 14. What is the purpose of the try clause? What is the purpose of the except clause? "
   ]
  },
  {
   "cell_type": "code",
   "execution_count": null,
   "id": "14159ea4",
   "metadata": {},
   "outputs": [],
   "source": [
    "The try clause in Python is used to enclose a block of code that might raise an exception or an error \n",
    "during its execution. Its purpose is to handle potential errors by allowing you to attempt the execution \n",
    "of certain code and then respond appropriately if an exception occurs."
   ]
  },
  {
   "cell_type": "code",
   "execution_count": null,
   "id": "eea11a40",
   "metadata": {},
   "outputs": [],
   "source": []
  },
  {
   "cell_type": "code",
   "execution_count": null,
   "id": "59296c13",
   "metadata": {},
   "outputs": [],
   "source": []
  },
  {
   "cell_type": "code",
   "execution_count": null,
   "id": "091f4b18",
   "metadata": {},
   "outputs": [],
   "source": []
  }
 ],
 "metadata": {
  "kernelspec": {
   "display_name": "Python 3 (ipykernel)",
   "language": "python",
   "name": "python3"
  },
  "language_info": {
   "codemirror_mode": {
    "name": "ipython",
    "version": 3
   },
   "file_extension": ".py",
   "mimetype": "text/x-python",
   "name": "python",
   "nbconvert_exporter": "python",
   "pygments_lexer": "ipython3",
   "version": "3.9.13"
  }
 },
 "nbformat": 4,
 "nbformat_minor": 5
}
