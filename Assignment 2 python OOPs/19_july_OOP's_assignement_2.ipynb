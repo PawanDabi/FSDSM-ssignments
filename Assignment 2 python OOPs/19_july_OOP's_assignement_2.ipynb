{
 "cells": [
  {
   "cell_type": "markdown",
   "id": "5a68c7f5",
   "metadata": {},
   "source": [
    "## 1. Explain what inheritance is in object-oriented programming and why it is used."
   ]
  },
  {
   "cell_type": "code",
   "execution_count": null,
   "id": "3d9cc026",
   "metadata": {},
   "outputs": [],
   "source": [
    "In object oriented programming the inheritance is a machanism that allow us to acquire the feature(properties and behaviour)\n",
    "from existing class into new class. in other words acquiring the features of parent class into derived class\n",
    "\n",
    "Inheritance is used to create a hierarchy of classes, where a new class, called a subclass or derived class, \n",
    "can inherit attributes and methods from an existing class, known as the superclass or base class. The subclass automatically \n",
    "gains access to the member variables and methods defined in the superclass, allowing the reuse of code without duplicating it."
   ]
  },
  {
   "cell_type": "markdown",
   "id": "59f44e44",
   "metadata": {},
   "source": [
    "## 2. Discuss the concept of single inheritance and multiple inheritance, highlighting their differences and advantages."
   ]
  },
  {
   "cell_type": "code",
   "execution_count": null,
   "id": "2deab8f3",
   "metadata": {},
   "outputs": [],
   "source": [
    "Single Inheritance:\n",
    "Single inheritance is a concept where a derived class inherits from a single base class. This means that a subclass can extend \n",
    "the functionality of only one superclass. The subclass inherits all the member variables and methods of the base class and can \n",
    "add its own unique attributes and behaviors. \n",
    "\n",
    "advantages of single inheritance:\n",
    "1) reuse the object\n",
    "2) Each time a class inherits the base class, it gets access to the parent object's functionality.\n",
    "3) Low development time and cost.\n",
    "4) Reusability due to inheritance is also reliable as the base class is already tested."
   ]
  },
  {
   "cell_type": "code",
   "execution_count": null,
   "id": "17c26bba",
   "metadata": {},
   "outputs": [],
   "source": [
    "Multiple Inheritance:\n",
    "Multiple inheritance is a concept where a derived class can inherit from multiple base classes. \n",
    "In this case, a subclass can inherit attributes and behaviors from more than one superclass. It allows the subclass to combine \n",
    "the features and functionalities of multiple classes into a single class.\n",
    "\n",
    "advantages of multiple inheritance:\n",
    "1) the child class copies all the attributes and methods of the parent class into its class and use.\n",
    "2) Multiple inheritance allows the creation of classes that combine features from different domains or aspects\n",
    "3) it can also introduce complexities and challenges"
   ]
  },
  {
   "cell_type": "markdown",
   "id": "e68fe700",
   "metadata": {},
   "source": [
    "## 3. Explain the terms \"base class\" and \"derived class\" in the context of inheritance."
   ]
  },
  {
   "cell_type": "code",
   "execution_count": null,
   "id": "31672866",
   "metadata": {},
   "outputs": [],
   "source": [
    "Base Class:\n",
    "A base class, also known as a superclass or parent class, is the class from which other classes inherit properties and behaviors.\n",
    "It is the existing class that serves as the foundation or template for creating new classes. \n",
    "\n",
    "A derived class, also known as a subclass or child class, is a class that inherits properties and behaviors from a base class. \n",
    "It is created by extending the base class and adding additional attributes and methods specific to the subclass. \n",
    "The derived class inherits all the member variables and methods of the base class and can override or extend them as needed\n",
    "\n",
    "class animal:   ## base class\n",
    "    \n",
    "    def __init__(self):\n",
    "        print(\"this is animal base class\")\n",
    "        \n",
    "class dog(animal):        ## derived class\n",
    "    \n",
    "    def __init__(self):\n",
    "        print(\"This is dog derived class\")"
   ]
  },
  {
   "cell_type": "markdown",
   "id": "657aa46c",
   "metadata": {},
   "source": [
    "## 4. What is the significance of the \"protected\" access modifier in inheritance? How does it differ from \"private\" and \"public\" modifiers?"
   ]
  },
  {
   "cell_type": "code",
   "execution_count": null,
   "id": "c89bfc2e",
   "metadata": {},
   "outputs": [],
   "source": [
    "Significance of \"Protected\" Access Modifier in Inheritance is that, The \"protected\" access modifier plays a crucial role in \n",
    "inheritance by striking a balance between encapsulation and code reuse. It allows derived classes to access and utilize the \n",
    "protected members of the base class while preventing direct access from unrelated classes.\n",
    "\n",
    "The protected access modifier differ from private:\n",
    "Private members are accessible only within the same class where they are declared. They are not visible or accessible to \n",
    "other classes, including derived classes. Private members are intended for internal implementation details of a class. \n",
    "They encapsulate data and behavior that should not be directly accessed or modified from outside the class.\n",
    "\n",
    "The protected access modifier differ from public:\n",
    "Public members are accessible from any part of the program, including other classes, derived classes, and instances of the class.\n",
    "Public members define the interface of a class, representing the externally visible behavior and functionality of the class."
   ]
  },
  {
   "cell_type": "markdown",
   "id": "59f1255f",
   "metadata": {},
   "source": [
    "## 5. What is the purpose of the \"super\" keyword in inheritance? Provide an example."
   ]
  },
  {
   "cell_type": "code",
   "execution_count": null,
   "id": "f48d6e9f",
   "metadata": {},
   "outputs": [],
   "source": [
    "the 'super' keyword is used in object oriented programing concept named as inheritance. it is used to access the feature of \n",
    "parent class instance method's data into a new derived class instance method. we use super keyword with the function name together.\n",
    "example:"
   ]
  },
  {
   "cell_type": "code",
   "execution_count": 3,
   "id": "28b3039c",
   "metadata": {},
   "outputs": [],
   "source": [
    "class animal_dog:\n",
    "    \n",
    "    def __init__(self, name):\n",
    "        self.name=name\n",
    "        \n",
    "    def sound(self):\n",
    "        print(\"dog barks bow bow bow \")\n",
    "        "
   ]
  },
  {
   "cell_type": "code",
   "execution_count": 13,
   "id": "7f7337ff",
   "metadata": {},
   "outputs": [],
   "source": [
    "class animal_cat(animal_dog):\n",
    "    \n",
    "    def __init__(self, name, breed):\n",
    "        super().__init__(name)\n",
    "        self.breed=breed\n",
    "        \n",
    "    def sound(self):\n",
    "        super().sound()\n",
    "        print(\"the cat says meow meow meow\")"
   ]
  },
  {
   "cell_type": "code",
   "execution_count": 14,
   "id": "b4dacd90",
   "metadata": {},
   "outputs": [
    {
     "name": "stdout",
     "output_type": "stream",
     "text": [
      "dog barks bow bow bow \n",
      "the cat says meow meow meow\n"
     ]
    }
   ],
   "source": [
    "animal=animal_cat('cat', 'african cat')\n",
    "animal.sound()"
   ]
  },
  {
   "cell_type": "markdown",
   "id": "ef0d816a",
   "metadata": {},
   "source": [
    "## 6. Create a base class called \"Vehicle\" with attributes like \"make\", \"model\", and \"year\". Then, create a derived class called \"Car\" that inherits from \"Vehicle\" and adds an attribute called \"fuel_type\". Implement appropriate methods in both classes."
   ]
  },
  {
   "cell_type": "code",
   "execution_count": 27,
   "id": "0692c680",
   "metadata": {},
   "outputs": [],
   "source": [
    "class Vehicle:\n",
    "    \n",
    "    def __init__(self, make, model, year):\n",
    "        self.make=make\n",
    "        self.model=model\n",
    "        self.year=year\n",
    "        \n",
    "    def display(self):\n",
    "        print(\"make: {}\".format(self.make))\n",
    "        print(\"model: {}\".format(self.model))\n",
    "        print(\"year: {}\".format(self.year))"
   ]
  },
  {
   "cell_type": "code",
   "execution_count": 28,
   "id": "f406b393",
   "metadata": {},
   "outputs": [],
   "source": [
    "class Car(Vehicle):\n",
    "    \n",
    "    def __init__(self,make, model, year, fuel_type):\n",
    "        super().__init__(make,model,year)\n",
    "        self.fuel_type=fuel_type\n",
    "        \n",
    "    def display(self):\n",
    "        super().display()\n",
    "        print(\"fuel type: {}\".format(self.fuel_type))"
   ]
  },
  {
   "cell_type": "code",
   "execution_count": 29,
   "id": "cd4f9c87",
   "metadata": {},
   "outputs": [
    {
     "name": "stdout",
     "output_type": "stream",
     "text": [
      "make: shyam honda make\n",
      "model: s-model\n",
      "year: 2023\n",
      "fuel type: desiel\n"
     ]
    }
   ],
   "source": [
    "car_1 = Car(\"shyam honda make\", \"s-model\", 2023, \"desiel\")\n",
    "car_1.display()"
   ]
  },
  {
   "cell_type": "markdown",
   "id": "12449b63",
   "metadata": {},
   "source": [
    "## 7. Create a base class called \"Employee\" with attributes like \"name\" and \"salary.\" Derive two classes, \"Manager\" and \"Developer,\" from \"Employee.\" Add an additional attribute called \"department\" for the \"Manager\" class and \"programming_language\" for the \"Developer\" class."
   ]
  },
  {
   "cell_type": "code",
   "execution_count": 31,
   "id": "d864c8b3",
   "metadata": {},
   "outputs": [],
   "source": [
    "class Employee:\n",
    "    \n",
    "    def __init__(self, name, salary):\n",
    "        self.name=name\n",
    "        self.salary=salary\n",
    "        \n",
    "    def display_information(self):\n",
    "        print(\"Employee name: {}\".format(self.name))\n",
    "        print(\"Employee salary: {}\".format(self.salary))\n",
    "        "
   ]
  },
  {
   "cell_type": "code",
   "execution_count": 32,
   "id": "8ac396ed",
   "metadata": {},
   "outputs": [],
   "source": [
    "class Manager(Employee):\n",
    "    \n",
    "    def __init__(self, name, salary, department):\n",
    "        super().__init__(name, salary)\n",
    "        self.department=department\n",
    "        \n",
    "    def display_information(self):\n",
    "        super().display_information()\n",
    "        print(\"Employee department: {}\".format(self.department))\n",
    "        "
   ]
  },
  {
   "cell_type": "code",
   "execution_count": 33,
   "id": "960cfcf7",
   "metadata": {},
   "outputs": [],
   "source": [
    "class Developer(Employee):\n",
    "    \n",
    "    def __init__(self, name, salary, programming_language):\n",
    "        super().__init__(name, salary)\n",
    "        self.programming_language=programming_language\n",
    "        \n",
    "    def display_information(self):\n",
    "        super().display_information()\n",
    "        print(\"Employee programming language: {}\".format(self.programming_language))"
   ]
  },
  {
   "cell_type": "code",
   "execution_count": 34,
   "id": "4a5ca283",
   "metadata": {},
   "outputs": [],
   "source": [
    "emp_manager = Manager(\"pawan\", 23000, \"mechanical engineering\")"
   ]
  },
  {
   "cell_type": "code",
   "execution_count": 35,
   "id": "5501933c",
   "metadata": {},
   "outputs": [
    {
     "name": "stdout",
     "output_type": "stream",
     "text": [
      "Employee name: pawan\n",
      "Employee salary: 23000\n",
      "Employee department: mechanical engineering\n"
     ]
    }
   ],
   "source": [
    "emp_manager.display_information()"
   ]
  },
  {
   "cell_type": "code",
   "execution_count": 36,
   "id": "896daed0",
   "metadata": {},
   "outputs": [],
   "source": [
    "emp_developer = Developer(\"mohan\", 25000, \"python programmig language\")"
   ]
  },
  {
   "cell_type": "code",
   "execution_count": 37,
   "id": "4a04ff8d",
   "metadata": {},
   "outputs": [
    {
     "name": "stdout",
     "output_type": "stream",
     "text": [
      "Employee name: mohan\n",
      "Employee salary: 25000\n",
      "Employee programming language: python programmig language\n"
     ]
    }
   ],
   "source": [
    "emp_developer.display_information()"
   ]
  },
  {
   "cell_type": "markdown",
   "id": "a0af9686",
   "metadata": {},
   "source": [
    "## 8. Design a base class called \"Shape\" with attributes like \"colour\" and \"border_width.\" Create derived classes, \"Rectangle\" and \"Circle,\" that inherit from \"Shape\" and add specific attributes like \"length\" and \"width\" for the \"Rectangle\" class and \"radius\" for the \"Circle\" class."
   ]
  },
  {
   "cell_type": "code",
   "execution_count": 38,
   "id": "ea019553",
   "metadata": {},
   "outputs": [],
   "source": [
    "class Shape:\n",
    "    \n",
    "    def __init__(self, colour, border_width):\n",
    "        self.colour=colour\n",
    "        self.border_width=border_width\n",
    "     \n",
    "    def display_shape(self):\n",
    "        print(\"The colour of shape is: {}\".format(self.colour))\n",
    "        print(\"The border width of shape is: {}\".format(self.border_width))"
   ]
  },
  {
   "cell_type": "code",
   "execution_count": 66,
   "id": "d92ab72e",
   "metadata": {},
   "outputs": [],
   "source": [
    "class Rectangle(Shape):\n",
    "    \n",
    "    def __init__(self, colour, border_width, length, width):\n",
    "        super().__init__(colour, border_width)\n",
    "        self.length=length\n",
    "        self.width=width\n",
    "        \n",
    "    def display_rectangle(self):\n",
    "        super().display_shape()\n",
    "        print(\"The length of shape rectangle is: {}\".format(self.length))\n",
    "        print(\"The width of shape rectangle is: {}\".format(self.width))"
   ]
  },
  {
   "cell_type": "code",
   "execution_count": 67,
   "id": "0efa29c3",
   "metadata": {},
   "outputs": [],
   "source": [
    "class Circle(Shape):\n",
    "    \n",
    "    def __init__(self, colour, border_width, radius):\n",
    "        super().__init__(colour, border_width)\n",
    "        self.radius=radius\n",
    "        \n",
    "    def display_circle(self):\n",
    "        super().display_shape()\n",
    "        print(\"The radius of shape circle is: {}\".format(self.radius))"
   ]
  },
  {
   "cell_type": "code",
   "execution_count": 68,
   "id": "b6f12042",
   "metadata": {},
   "outputs": [],
   "source": [
    "shape_rectangle=Rectangle(\"Green\", 2, 5, 4)"
   ]
  },
  {
   "cell_type": "code",
   "execution_count": 69,
   "id": "a424b884",
   "metadata": {},
   "outputs": [
    {
     "name": "stdout",
     "output_type": "stream",
     "text": [
      "The colour of shape is: Green\n",
      "The border width of shape is: 2\n",
      "The length of shape rectangle is: 5\n",
      "The width of shape rectangle is: 4\n"
     ]
    }
   ],
   "source": [
    "shape_rectangle.display_rectangle()"
   ]
  },
  {
   "cell_type": "code",
   "execution_count": 70,
   "id": "b50980a3",
   "metadata": {},
   "outputs": [],
   "source": [
    "shape_circle=Circle(\"yellow\", 2, 3.44)"
   ]
  },
  {
   "cell_type": "code",
   "execution_count": 71,
   "id": "0f78f691",
   "metadata": {},
   "outputs": [
    {
     "name": "stdout",
     "output_type": "stream",
     "text": [
      "The colour of shape is: yellow\n",
      "The border width of shape is: 2\n",
      "The radius of shape circle is: 3.44\n"
     ]
    }
   ],
   "source": [
    "shape_circle.display_circle()"
   ]
  },
  {
   "cell_type": "markdown",
   "id": "491ec05d",
   "metadata": {},
   "source": [
    "## 9. Create a base class called \"Device\" with attributes like \"brand\" and \"model.\" Derive two classes, \"Phone\" and \"Tablet,\" from \"Device.\" Add specific attributes like \"screen_size\" for the \"Phone\" class and \"battery_capacity\" for the \"Tablet\" class."
   ]
  },
  {
   "cell_type": "code",
   "execution_count": 73,
   "id": "308df5b5",
   "metadata": {},
   "outputs": [],
   "source": [
    "class Device:\n",
    "    \n",
    "    def __init__(self, brand, model):\n",
    "        self.brand=brand\n",
    "        self.model=model\n",
    "        \n",
    "    def display_information(self):\n",
    "        print(\"Device brand name: {}\".format(self.brand))\n",
    "        print(\"Device model name: {}\".format(self.model))\n",
    "        \n",
    "class Phone(Device):\n",
    "    \n",
    "    def __init__(self, brand, model, screen_size):\n",
    "        super().__init__(brand, model)\n",
    "        self.screen_size=screen_size\n",
    "        \n",
    "    def display_phone_information(self):\n",
    "        super().display_information()\n",
    "        print(\"Phone screen size is: {}\".format(self.screen_size))\n",
    "        \n",
    "class Tablet(Device):\n",
    "    \n",
    "    def __init__(self, brand, model, battery_capacity):\n",
    "        super().__init__(brand, model)\n",
    "        self.battery_capacity=battery_capacity\n",
    "        \n",
    "    def display_tablet_information(self):\n",
    "        super().display_information()\n",
    "        print(\"tablet battery capacity is: {}\".format(self.battery_capacity))"
   ]
  },
  {
   "cell_type": "code",
   "execution_count": 74,
   "id": "264ae3fa",
   "metadata": {},
   "outputs": [],
   "source": [
    "phone = Phone(\"samsung galaxy\", \"S30\", \"6.24 inches\")"
   ]
  },
  {
   "cell_type": "code",
   "execution_count": 76,
   "id": "4dbb7ab0",
   "metadata": {},
   "outputs": [
    {
     "name": "stdout",
     "output_type": "stream",
     "text": [
      "Device brand name: samsung galaxy\n",
      "Device model name: S30\n",
      "Phone screen size is: 6.24 inches\n"
     ]
    }
   ],
   "source": [
    "phone.display_phone_information()"
   ]
  },
  {
   "cell_type": "code",
   "execution_count": 77,
   "id": "5e82e5a3",
   "metadata": {},
   "outputs": [],
   "source": [
    "tablet = Tablet(\"Xiaomi tablet\", \"mi-22\", \"14 inches\")"
   ]
  },
  {
   "cell_type": "code",
   "execution_count": 78,
   "id": "468f29cd",
   "metadata": {},
   "outputs": [
    {
     "name": "stdout",
     "output_type": "stream",
     "text": [
      "Device brand name: Xiaomi tablet\n",
      "Device model name: mi-22\n",
      "tablet battery capacity is: 14 inches\n"
     ]
    }
   ],
   "source": [
    "tablet.display_tablet_information()"
   ]
  },
  {
   "cell_type": "markdown",
   "id": "28ba5599",
   "metadata": {},
   "source": [
    "##  10.Create a base class called \"BankAccount\" with attributes like \"account_number\" and \"balance.\" Derive two classes, \"SavingsAccount\" and \"CheckingAccount,\" from \"BankAccount.\" Add specific methods like \"calculate_interest\" for the \"SavingsAccount\" class and \"deduct_fees\" for the \"CheckingAccount\" class."
   ]
  },
  {
   "cell_type": "code",
   "execution_count": 79,
   "id": "bea0446a",
   "metadata": {},
   "outputs": [],
   "source": [
    "class BankAccount:\n",
    "    \n",
    "    def __init__(self, account_number, balance):\n",
    "        self.account_number = account_number\n",
    "        self.balance = balance\n",
    "\n",
    "\n",
    "class SavingsAccount(BankAccount):\n",
    "    \n",
    "    def __init__(self, account_number, balance, interest_rate):\n",
    "        super().__init__(account_number, balance)\n",
    "        self.interest_rate = interest_rate\n",
    "\n",
    "    def calculate_interest(self):\n",
    "        \n",
    "        interest = self.balance * self.interest_rate\n",
    "        self.balance += interest\n",
    "        return interest\n",
    "\n",
    "\n",
    "class CheckingAccount(BankAccount):\n",
    "    \n",
    "    def __init__(self, account_number, balance, fee_per_transaction):\n",
    "        super().__init__(account_number, balance)\n",
    "        self.fee_per_transaction = fee_per_transaction\n",
    "\n",
    "    def deduct_fees(self, num_transactions):\n",
    "        fees = self.fee_per_transaction * num_transactions\n",
    "        self.balance -= fees\n",
    "        return fees"
   ]
  },
  {
   "cell_type": "code",
   "execution_count": 81,
   "id": "45ca5e95",
   "metadata": {},
   "outputs": [
    {
     "name": "stdout",
     "output_type": "stream",
     "text": [
      "Savings Account Number: SA001\n",
      "Savings Account Balance: 5000\n",
      "Savings Account Interest Rate: 0.05\n",
      "Checking Account Number: CA001\n",
      "Checking Account Balance: 3000\n",
      "Checking Account Fee per Transaction: 2.5\n",
      "\n",
      "\n",
      "Calculated Interest: 250.0\n",
      "Updated Balance: 5250.0\n",
      "\n",
      "\n",
      "Deducted Fees: 7.5\n",
      "Updated Balance: 2992.5\n"
     ]
    }
   ],
   "source": [
    "savings_account = SavingsAccount(\"SA001\", 5000, 0.05)\n",
    "checking_account = CheckingAccount(\"CA001\", 3000, 2.50)\n",
    "\n",
    "print(\"Savings Account Number: {}\".format(savings_account.account_number))\n",
    "print(\"Savings Account Balance: {}\".format(savings_account.balance))\n",
    "print(\"Savings Account Interest Rate: {}\".format(savings_account.interest_rate))\n",
    "\n",
    "print(\"Checking Account Number: {}\".format(checking_account.account_number))\n",
    "print(\"Checking Account Balance: {}\".format(checking_account.balance))\n",
    "print(\"Checking Account Fee per Transaction: {}\".format(checking_account.fee_per_transaction))\n",
    "print(\"\\n\")\n",
    "\n",
    "interest = savings_account.calculate_interest()\n",
    "print(\"Calculated Interest: {}\".format(interest))\n",
    "print(\"Updated Balance: {}\".format(savings_account.balance))\n",
    "print(\"\\n\")\n",
    "\n",
    "fees = checking_account.deduct_fees(3)\n",
    "print(\"Deducted Fees: {}\".format(fees))\n",
    "print(\"Updated Balance: {}\".format(checking_account.balance))\n"
   ]
  },
  {
   "cell_type": "code",
   "execution_count": null,
   "id": "2f9464b6",
   "metadata": {},
   "outputs": [],
   "source": []
  }
 ],
 "metadata": {
  "kernelspec": {
   "display_name": "Python 3 (ipykernel)",
   "language": "python",
   "name": "python3"
  },
  "language_info": {
   "codemirror_mode": {
    "name": "ipython",
    "version": 3
   },
   "file_extension": ".py",
   "mimetype": "text/x-python",
   "name": "python",
   "nbconvert_exporter": "python",
   "pygments_lexer": "ipython3",
   "version": "3.9.13"
  }
 },
 "nbformat": 4,
 "nbformat_minor": 5
}
