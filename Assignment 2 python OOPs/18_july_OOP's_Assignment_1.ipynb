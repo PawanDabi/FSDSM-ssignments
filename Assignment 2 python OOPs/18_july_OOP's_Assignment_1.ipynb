{
 "cells": [
  {
   "cell_type": "markdown",
   "id": "e40c0e00",
   "metadata": {},
   "source": [
    "## 1. What is the primary goal of Object-Oriented Programming (OOP)?"
   ]
  },
  {
   "cell_type": "code",
   "execution_count": null,
   "id": "8329a39c",
   "metadata": {},
   "outputs": [],
   "source": [
    "The primary goal of object oriented programming is to provide a way of structure and organizing the code by groupng the related\n",
    "data and behaviours into object. In oops we define class to represents the entites or concept in our programm.\n",
    "A class is like a blue print that defines the attribute and instance methods.\n",
    "A object is an instance of the class where we can interact with class methods and attributes\n",
    "the key operation of oop's is \n",
    "1) Inheritance\n",
    "2) polymorphism\n",
    "3) encapsulation"
   ]
  },
  {
   "cell_type": "markdown",
   "id": "f164655b",
   "metadata": {},
   "source": [
    "## 2. What is an object in Python?"
   ]
  },
  {
   "cell_type": "code",
   "execution_count": null,
   "id": "d4b04540",
   "metadata": {},
   "outputs": [],
   "source": [
    "The object in python, it is instance of the class and it is the fundamental concept of object oriented programming.\n",
    "with a creation of object of any class we can manipluate the class attribute and instance methods of the class"
   ]
  },
  {
   "cell_type": "markdown",
   "id": "f2878ef5",
   "metadata": {},
   "source": [
    "## 3. What is a class in Python?"
   ]
  },
  {
   "cell_type": "code",
   "execution_count": null,
   "id": "c7ee237d",
   "metadata": {},
   "outputs": [],
   "source": [
    "The class is the blue print of that defines the attribute and instance methods.\n",
    "the 'class' keyword is used to create the class in python\n",
    "example:"
   ]
  },
  {
   "cell_type": "code",
   "execution_count": 1,
   "id": "efc7da06",
   "metadata": {},
   "outputs": [],
   "source": [
    "class animal:\n",
    "    pass"
   ]
  },
  {
   "cell_type": "markdown",
   "id": "badec5fe",
   "metadata": {},
   "source": [
    "## 4. What are attributes and methods in a class?"
   ]
  },
  {
   "cell_type": "code",
   "execution_count": null,
   "id": "e118b972",
   "metadata": {},
   "outputs": [],
   "source": [
    "Attributes: Attributes are variables that hold data associated with each instance of the class. \n",
    "They represent the properties or characteristics of an object. Each object created from the class can have its own set\n",
    "of attribute values. Attributes can be accessed and modified using dot notation\n",
    "\n",
    "example:"
   ]
  },
  {
   "cell_type": "code",
   "execution_count": 3,
   "id": "08e825e9",
   "metadata": {},
   "outputs": [],
   "source": [
    "class person:\n",
    "    def __init__(self, name, age):\n",
    "        self.first_name = name\n",
    "        self.person_age = age\n",
    "    "
   ]
  },
  {
   "cell_type": "code",
   "execution_count": 7,
   "id": "400e8b09",
   "metadata": {},
   "outputs": [
    {
     "name": "stdout",
     "output_type": "stream",
     "text": [
      "pawan\n",
      "23\n"
     ]
    }
   ],
   "source": [
    "person_1 = person(\"pawan\",23)\n",
    "print(person_1.first_name)\n",
    "print(person_1.person_age)"
   ]
  },
  {
   "cell_type": "code",
   "execution_count": null,
   "id": "af295370",
   "metadata": {},
   "outputs": [],
   "source": [
    "Methods: Methods are functions defined within a class that define the behavior of objects created from that class. \n",
    "They operate on the data (attributes) of the class and can perform various operations or computations. \n",
    "Methods are used to encapsulate the actions or behaviors associated with an object.\n",
    "\n",
    "example:"
   ]
  },
  {
   "cell_type": "code",
   "execution_count": 15,
   "id": "ee06c6bf",
   "metadata": {},
   "outputs": [],
   "source": [
    "class person:\n",
    "    def __init__(self, name, age):\n",
    "        self.first_name = name\n",
    "        self.person_age = age\n",
    "    def information(self):\n",
    "        return \"the name of person is: {} and the age of the person is: {}\".format(self.first_name, self.person_age)"
   ]
  },
  {
   "cell_type": "code",
   "execution_count": 16,
   "id": "48728f7e",
   "metadata": {},
   "outputs": [
    {
     "data": {
      "text/plain": [
       "'the name of person is: pawan and the age of the person is: 23'"
      ]
     },
     "execution_count": 16,
     "metadata": {},
     "output_type": "execute_result"
    }
   ],
   "source": [
    "person_1=person(\"pawan\",23)\n",
    "person_1.information()"
   ]
  },
  {
   "cell_type": "markdown",
   "id": "eac665ae",
   "metadata": {},
   "source": [
    "## 5. What is the difference between class variables and instance variables in Python?"
   ]
  },
  {
   "cell_type": "code",
   "execution_count": null,
   "id": "4d0efb48",
   "metadata": {},
   "outputs": [],
   "source": [
    "Class Variables: \n",
    "    Class variables are variables that are shared among all instances (objects) of a class. \n",
    "They are defined within the class but outside any instance methods. Class variables are typically used to\n",
    "represent attributes or properties that are common to all objects of the class."
   ]
  },
  {
   "cell_type": "code",
   "execution_count": 18,
   "id": "c91d1865",
   "metadata": {},
   "outputs": [
    {
     "name": "stdout",
     "output_type": "stream",
     "text": [
      "male\n",
      "female\n"
     ]
    }
   ],
   "source": [
    "class Person:\n",
    "    sex_male = \"male\"\n",
    "    sex_female = \"female\"\n",
    "    def __init__(self, name):\n",
    "        self.name = name\n",
    "\n",
    "person1 = Person(\"pawan\")\n",
    "person2 = Person(\"sarthak\")\n",
    "\n",
    "print(person1.sex_male) \n",
    "print(person2.sex_female)"
   ]
  },
  {
   "cell_type": "code",
   "execution_count": null,
   "id": "f0540d50",
   "metadata": {},
   "outputs": [],
   "source": [
    "Instance Variables: \n",
    "    Instance variables are variables that are specific to each instance (object) of a class.\n",
    "They are defined within the instance methods or the class constructor (__init__ method). Instance variables represent\n",
    "unique attributes or properties of individual objects."
   ]
  },
  {
   "cell_type": "code",
   "execution_count": 20,
   "id": "aad3b618",
   "metadata": {},
   "outputs": [
    {
     "name": "stdout",
     "output_type": "stream",
     "text": [
      "pawan\n",
      "mohan\n"
     ]
    }
   ],
   "source": [
    "class Person:\n",
    "    def __init__(self, name, age):\n",
    "        self.name = name\n",
    "        self.age = age\n",
    "\n",
    "person1 = Person(\"pawan\", 25)\n",
    "person2 = Person(\"mohan\", 30)\n",
    "\n",
    "print(person1.name)  \n",
    "print(person2.name)"
   ]
  },
  {
   "cell_type": "markdown",
   "id": "861fc9df",
   "metadata": {},
   "source": [
    "## 6. What is the purpose of the self parameter in Python class methods?"
   ]
  },
  {
   "cell_type": "code",
   "execution_count": null,
   "id": "57e0b956",
   "metadata": {},
   "outputs": [],
   "source": [
    "The purpose of the self parameter is to allow methods to access and manipulate the attributes (instance variables) of \n",
    "the object. By using self, you can refer to the specific instance of the class on which the method is being called. \n",
    "It provides a way to differentiate between the attributes of different objects of the same class."
   ]
  },
  {
   "cell_type": "markdown",
   "id": "c0ef58f6",
   "metadata": {},
   "source": [
    "## 7.For a library management system, you have to design the \"Book\" class with OOP principles in mind. The “Book” class will have following attributes:"
   ]
  },
  {
   "cell_type": "code",
   "execution_count": 74,
   "id": "91dbbaa3",
   "metadata": {},
   "outputs": [],
   "source": [
    "class book:\n",
    "    def __init__(self, title, author, isbn, public_year, avail_copies):\n",
    "        self.book_title = title\n",
    "        self.book_author = author\n",
    "        self.isbn_no = isbn\n",
    "        self.publication_year = public_year\n",
    "        self.available_copies = avail_copies\n",
    "    def check_out(self):\n",
    "        if self.available_copies>0:\n",
    "            self.available_copies-=1\n",
    "            print(\"{} books are checkedout\".format(self.available_copies))\n",
    "        else:\n",
    "            print(\"no books are checkedout.\")\n",
    "    def return_book(self):\n",
    "        self.available_copies+=1\n",
    "        print(\"book name: {\" \"}, are returend.\".format(self.book_title))\n",
    "        print(\"Total no of available books are: {}\".format(self.available_copies))\n",
    "    def display_book_info(self):\n",
    "        print(\"\\tBook Information.\")\n",
    "        print(\"Book title name: {}\".format(self.book_title))\n",
    "        print(\"Book Auother name: {}\".format(self.book_author))\n",
    "        print(\"Book ISBN number: {}\".format(self.isbn_no))\n",
    "        print(\"Book Publication Year: {}\".format(self.publication_year))\n",
    "        print(\"Book Available copies: {}\".format(self.available_copies))\n",
    "        "
   ]
  },
  {
   "cell_type": "code",
   "execution_count": 78,
   "id": "de95321f",
   "metadata": {},
   "outputs": [
    {
     "name": "stdout",
     "output_type": "stream",
     "text": [
      "16 books are checkedout\n"
     ]
    }
   ],
   "source": [
    "new_book = book(\"journy of life\", \"john anderson\", \"233-443-5463-2334\", \"2001\", 17)\n",
    "new_book.check_out()"
   ]
  },
  {
   "cell_type": "code",
   "execution_count": 79,
   "id": "cabb2fd3",
   "metadata": {},
   "outputs": [
    {
     "name": "stdout",
     "output_type": "stream",
     "text": [
      "book name: journy of life, are returend.\n",
      "Total no of available books are: 17\n"
     ]
    }
   ],
   "source": [
    "new_book.return_book()"
   ]
  },
  {
   "cell_type": "code",
   "execution_count": 80,
   "id": "fe7397a9",
   "metadata": {},
   "outputs": [
    {
     "name": "stdout",
     "output_type": "stream",
     "text": [
      "\tBook Information.\n",
      "Book title name: journy of life\n",
      "Book Auother name: john anderson\n",
      "Book ISBN number: 233-443-5463-2334\n",
      "Book Publication Year: 2001\n",
      "Book Available copies: 17\n"
     ]
    }
   ],
   "source": [
    "new_book.display_book_info()"
   ]
  },
  {
   "cell_type": "markdown",
   "id": "c954a69b",
   "metadata": {},
   "source": [
    "## 8. For a ticket booking system, you have to design the \"Ticket\" class with OOP principles in mind. The “Ticket” class should have the following attributes:"
   ]
  },
  {
   "cell_type": "code",
   "execution_count": 111,
   "id": "4e2a125a",
   "metadata": {},
   "outputs": [],
   "source": [
    "class Ticket:\n",
    "    def __init__(self, ticket_id, event_name, event_date, venue, seat_number, price, is_reserved):\n",
    "        self.ticket_id = ticket_id\n",
    "        self.event_name = event_name\n",
    "        self.event_date = event_date\n",
    "        self.venue = venue\n",
    "        self.seat_number = seat_number\n",
    "        self.price = price\n",
    "        self.is_reserved = False\n",
    "    def reserve_ticket(self):\n",
    "        if not self.is_reserved:\n",
    "            self.is_reserved = True\n",
    "            print(\"The ticket {} is reserved\".format(self.ticket_id))\n",
    "        else:\n",
    "            print(\"the ticket {} is not reserved\".format(self.ticket_id))\n",
    "    def cancel_reservation(self):\n",
    "        if self.is_reserved == True:\n",
    "            self.is_reserved = False\n",
    "            print(\"the ticket {} is cancled.\".format(self.ticket_id))\n",
    "        else:\n",
    "            print(\"the ticket {} is not cancled.\".format(self.ticket_id))\n",
    "    def display_ticket_info(self):\n",
    "        print(\"\\tTicket Information.\")\n",
    "        print(\"The ticket id is: {}\".format(self.ticket_id))\n",
    "        print(\"The event name is: {}\".format(self.event_name))\n",
    "        print(\"The event date is: {}\".format(self.event_date))\n",
    "        print(\"The venue address is: {}\".format(self.venue))\n",
    "        print(\"The seat number is: {}\".format(self.seat_number))\n",
    "        print(\"The price of ticket is: {}\".format(self.price))\n",
    "        if self.is_reserved:\n",
    "            print(\"The ticket is reserved\")\n",
    "        else:\n",
    "            print(\"The ticket is not reserved\")"
   ]
  },
  {
   "cell_type": "code",
   "execution_count": 124,
   "id": "7c77f473",
   "metadata": {},
   "outputs": [
    {
     "name": "stdout",
     "output_type": "stream",
     "text": [
      "The ticket 1 is reserved\n"
     ]
    }
   ],
   "source": [
    "ticket_1=Ticket(1, \"goyal singing show\", \"17-10-2022\", \"MG complex \", 34, 1500, True)\n",
    "ticket_1.reserve_ticket()"
   ]
  },
  {
   "cell_type": "code",
   "execution_count": 125,
   "id": "2f6d8972",
   "metadata": {},
   "outputs": [
    {
     "name": "stdout",
     "output_type": "stream",
     "text": [
      "the ticket 1 is cancled.\n"
     ]
    }
   ],
   "source": [
    "ticket_1.cancel_reservation()"
   ]
  },
  {
   "cell_type": "code",
   "execution_count": 126,
   "id": "40133249",
   "metadata": {},
   "outputs": [
    {
     "name": "stdout",
     "output_type": "stream",
     "text": [
      "\tTicket Information.\n",
      "The ticket id is: 1\n",
      "The event name is: goyal singing show\n",
      "The event date is: 17-10-2022\n",
      "The venue address is: MG complex \n",
      "The seat number is: 34\n",
      "The price of ticket is: 1500\n",
      "The ticket is reserved\n"
     ]
    }
   ],
   "source": [
    "ticket_1.display_ticket_info()"
   ]
  },
  {
   "cell_type": "markdown",
   "id": "60aef0ac",
   "metadata": {},
   "source": [
    "## 9. You are creating a shopping cart for an e-commerce website. Using OOP to model the \"ShoppingCart\" functionality the class should contain following attributes and methods:"
   ]
  },
  {
   "cell_type": "code",
   "execution_count": 146,
   "id": "9a75fc7f",
   "metadata": {},
   "outputs": [],
   "source": [
    "class ShoppingCart:\n",
    "    def __init__(self):\n",
    "        self.items=[]\n",
    "    def add_items(self, item):\n",
    "        self.items.append(item)\n",
    "        print(\"The list of item is: {}\".format(self.items))\n",
    "    def remove_item(self, remove_items):\n",
    "        if remove_items in self.items:\n",
    "            self.items.remove(remove_items)\n",
    "            print(\"The item has been removed\")\n",
    "            print(\"The shopping cart list is: {}\".format(self.items))\n",
    "        else:\n",
    "            print(\"No such item found\")\n",
    "    def view_cart(self):\n",
    "        if self.items:\n",
    "            print(\"the items in shopping cart is: \")\n",
    "            for item in self.items:\n",
    "                print(item)\n",
    "        else:\n",
    "            print(\"the shopping cart has no items\")\n",
    "    def clear_cart(self):\n",
    "        self.items = []\n",
    "        print(\"the shopping cart has been cleared\")"
   ]
  },
  {
   "cell_type": "code",
   "execution_count": 147,
   "id": "0c4437a6",
   "metadata": {},
   "outputs": [],
   "source": [
    "shopping = ShoppingCart()"
   ]
  },
  {
   "cell_type": "code",
   "execution_count": 148,
   "id": "30bb6c72",
   "metadata": {},
   "outputs": [
    {
     "name": "stdout",
     "output_type": "stream",
     "text": [
      "The list of item is: ['watch']\n"
     ]
    }
   ],
   "source": [
    "shopping.add_items(\"watch\")\n"
   ]
  },
  {
   "cell_type": "code",
   "execution_count": 149,
   "id": "56a1d1c8",
   "metadata": {},
   "outputs": [
    {
     "name": "stdout",
     "output_type": "stream",
     "text": [
      "The list of item is: ['watch', 'phone']\n"
     ]
    }
   ],
   "source": [
    "shopping.add_items(\"phone\")"
   ]
  },
  {
   "cell_type": "code",
   "execution_count": 150,
   "id": "209fe563",
   "metadata": {},
   "outputs": [
    {
     "name": "stdout",
     "output_type": "stream",
     "text": [
      "The list of item is: ['watch', 'phone', 'phone cover']\n"
     ]
    }
   ],
   "source": [
    "shopping.add_items(\"phone cover\")"
   ]
  },
  {
   "cell_type": "code",
   "execution_count": 151,
   "id": "09461cac",
   "metadata": {},
   "outputs": [
    {
     "name": "stdout",
     "output_type": "stream",
     "text": [
      "The item has been removed\n",
      "The shopping cart list is: ['watch', 'phone']\n"
     ]
    }
   ],
   "source": [
    "shopping.remove_item(\"phone cover\")"
   ]
  },
  {
   "cell_type": "code",
   "execution_count": 152,
   "id": "ac50fa30",
   "metadata": {},
   "outputs": [
    {
     "name": "stdout",
     "output_type": "stream",
     "text": [
      "the items in shopping cart is: \n",
      "watch\n",
      "phone\n"
     ]
    }
   ],
   "source": [
    "shopping.view_cart()"
   ]
  },
  {
   "cell_type": "code",
   "execution_count": 153,
   "id": "506f8551",
   "metadata": {},
   "outputs": [
    {
     "name": "stdout",
     "output_type": "stream",
     "text": [
      "the shopping cart has been cleared\n"
     ]
    }
   ],
   "source": [
    "shopping.clear_cart()"
   ]
  },
  {
   "cell_type": "markdown",
   "id": "d2764427",
   "metadata": {},
   "source": [
    "## 10. Imagine a school management system. You have to design the \"Student\" class using OOP concepts.The “Student” class has the following attributes:"
   ]
  },
  {
   "cell_type": "code",
   "execution_count": 175,
   "id": "e389c77f",
   "metadata": {},
   "outputs": [],
   "source": [
    "class Student:\n",
    "    def __init__(self, name, age, grade, student_id):\n",
    "        self.name = name\n",
    "        self.age = age\n",
    "        self.grade = grade\n",
    "        self.student_id = student_id\n",
    "        self.attendance = {}\n",
    "    def update_attendance(self, date, status):\n",
    "        self.attendance[date] = status\n",
    "    def get_attendance(self):\n",
    "        print(\"the attendance record of the student is: \")\n",
    "        return self.attendance\n",
    "    def get_average_attendance(self):\n",
    "        total_days = len(self.attendance)\n",
    "        if total_days == 0:\n",
    "            return 0\n",
    "        days = sum(status == \"present\" for status in self.attendance.values())\n",
    "        average_attendance = (days / total_days) * 100\n",
    "        return average_attendance"
   ]
  },
  {
   "cell_type": "code",
   "execution_count": 176,
   "id": "6a773257",
   "metadata": {},
   "outputs": [],
   "source": [
    "student_1 = Student(\"pawan\", 23, \"89%\", 2)"
   ]
  },
  {
   "cell_type": "code",
   "execution_count": 177,
   "id": "8f4115cd",
   "metadata": {},
   "outputs": [],
   "source": [
    "student_1.update_attendance(\"27-01-2023\", \"present\")"
   ]
  },
  {
   "cell_type": "code",
   "execution_count": 178,
   "id": "a5a5b51a",
   "metadata": {},
   "outputs": [],
   "source": [
    "student_1.update_attendance(\"22-02-2023\", \"present\")"
   ]
  },
  {
   "cell_type": "code",
   "execution_count": 179,
   "id": "dd9174ea",
   "metadata": {},
   "outputs": [],
   "source": [
    "student_1.update_attendance(\"2-03-2023\", \"absent\")"
   ]
  },
  {
   "cell_type": "code",
   "execution_count": 180,
   "id": "8897929c",
   "metadata": {},
   "outputs": [],
   "source": [
    "student_1.update_attendance(\"7-04-2023\", \"present\")"
   ]
  },
  {
   "cell_type": "code",
   "execution_count": 181,
   "id": "dc2e51d0",
   "metadata": {},
   "outputs": [
    {
     "name": "stdout",
     "output_type": "stream",
     "text": [
      "the attendance record of the student is: \n"
     ]
    },
    {
     "data": {
      "text/plain": [
       "{'27-01-2023': 'present',\n",
       " '22-02-2023': 'present',\n",
       " '2-03-2023': 'absent',\n",
       " '7-04-2023': 'present'}"
      ]
     },
     "execution_count": 181,
     "metadata": {},
     "output_type": "execute_result"
    }
   ],
   "source": [
    "student_1.get_attendance()"
   ]
  },
  {
   "cell_type": "code",
   "execution_count": 182,
   "id": "ecec0ca6",
   "metadata": {},
   "outputs": [
    {
     "name": "stdout",
     "output_type": "stream",
     "text": [
      "The total attendance is: 75.0%\n"
     ]
    }
   ],
   "source": [
    "total_average_attendance = student_1.get_average_attendance()\n",
    "print(\"The total attendance is: {}%\".format(total_average_attendance))"
   ]
  },
  {
   "cell_type": "code",
   "execution_count": null,
   "id": "3a494d99",
   "metadata": {},
   "outputs": [],
   "source": []
  },
  {
   "cell_type": "code",
   "execution_count": null,
   "id": "17f368bd",
   "metadata": {},
   "outputs": [],
   "source": []
  },
  {
   "cell_type": "code",
   "execution_count": null,
   "id": "d6114227",
   "metadata": {},
   "outputs": [],
   "source": []
  }
 ],
 "metadata": {
  "kernelspec": {
   "display_name": "Python 3 (ipykernel)",
   "language": "python",
   "name": "python3"
  },
  "language_info": {
   "codemirror_mode": {
    "name": "ipython",
    "version": 3
   },
   "file_extension": ".py",
   "mimetype": "text/x-python",
   "name": "python",
   "nbconvert_exporter": "python",
   "pygments_lexer": "ipython3",
   "version": "3.9.13"
  }
 },
 "nbformat": 4,
 "nbformat_minor": 5
}
